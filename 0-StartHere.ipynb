{
 "cells": [
  {
   "cell_type": "markdown",
   "metadata": {},
   "source": [
    "## EMSC2022 - Introduction to Global Geophysics - Sem 1 2019\n",
    "\n",
    "(c) Louis Moresi (2019)\n",
    "\n",
    "A python3 notebook-based set of exercises in observing and mapping mantle convection at the surface of the Earth \n",
    "\n",
    "\n",
    "![](Images/ImageForLandingPage.png)\n",
    "\n",
    "\n",
    "\n",
    "\n",
    "\n",
    "\n",
    "\n",
    "\n",
    "  1. [Introduction to python / jupyter](Introduction2Python/1-IntroductionToJupyterNotebooks.ipynb)\n",
    "  1. [Introduction to version control with git](Introduction2VersionControl/1-GettingStartedWithGit.ipynb)\n",
    "  1. [Getting Started with Numpy / Scipy](Numpy+Scipy/1-IntroductionToNumpy.ipynb)\n",
    "  1. [Introduction to Matplotlib](Plotting/1-IntroductionToMatplotlib.ipynb)\n",
    "  1. [Stripy for meshing / mapping the Sphere](SphericalMeshing/SphericalTriangulations/Ex1-Spherical-Triangulations.ipynb)\n",
    "  1. [Making beautiful and useful maps with Cartopy](Mapping/0-Preliminaries.ipynb)\n",
    "  1. [Finite Differences with numpy](SolveMathProblems/0-IntroductionToNumericalSolutions.ipynb)\n",
    "  \n",
    "  \n",
    " ### Description\n",
    " \n",
    "This lab is "
   ]
  },
  {
   "cell_type": "code",
   "execution_count": null,
   "metadata": {},
   "outputs": [],
   "source": []
  }
 ],
 "metadata": {
  "kernel_info": {
   "name": "python3"
  },
  "kernelspec": {
   "display_name": "Python 3",
   "language": "python",
   "name": "python3"
  },
  "language_info": {
   "codemirror_mode": {
    "name": "ipython",
    "version": 3
   },
   "file_extension": ".py",
   "mimetype": "text/x-python",
   "name": "python",
   "nbconvert_exporter": "python",
   "pygments_lexer": "ipython3",
   "version": "3.7.2"
  },
  "nteract": {
   "version": "0.12.3"
  }
 },
 "nbformat": 4,
 "nbformat_minor": 4
}

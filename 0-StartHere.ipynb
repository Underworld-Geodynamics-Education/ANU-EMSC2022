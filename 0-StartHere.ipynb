{
 "cells": [
  {
   "cell_type": "markdown",
   "metadata": {},
   "source": [
    "## EMSC2022 - Introduction to Global Geophysics - Sem 1 2019\n",
    "\n",
    "(c) Louis Moresi (2019)\n",
    "\n",
    "\n",
    "\n",
    "![](GlobalEQMap.png)\n",
    "\n",
    "\n",
    "  1. [How to use cartopy](+StudentLabs/Week9/00-How2PlotAMap.ipynb)\n",
    "  0. [How to plot an image](+StudentLabs/Week9/01-How2PlotAnImageOnAMap.ipynb)\n",
    "  0. [How to plot point data](+StudentLabs/Week9/02-How2PlotPointsOnAMap.ipynb)\n",
    "  0. [Exercise 1](+StudentLabs/Week9/03-ExerciseNo1.ipynb)\n",
    "  0. [How to draw contours](+StudentLabs/Week9/04-How2PlotContoursOnAMap.ipynb)\n",
    "  0. [Exercise 2](+StudentLabs/Week9/05-ExerciseNo2.ipynb)\n",
    "  0. [How to plot vectors / streamlines](+StudentLabs/Week9/06-How2PlotVectorsOnAMap.ipynb)\n",
    "  0. [Exercise 3](+StudentLabs/Week9/07-ExerciseNo3.ipynb)\n",
    "  0. [Seafloor Age / Depth data](+StudentLabs/Week9/08-AnalysisOfAgeData.ipynb)\n",
    "  0. [Exercise 4](+StudentLabs/Week9/09-ExerciseNo4.ipynb)\n",
    "\n",
    "A python3 notebook-based set of exercises in observing and mapping the effects of plate motions and mantle convection at the surface of the Earth \n",
    "\n"
   ]
  },
  {
   "cell_type": "code",
   "execution_count": null,
   "metadata": {},
   "outputs": [],
   "source": []
  }
 ],
 "metadata": {
  "kernel_info": {
   "name": "python3"
  },
  "kernelspec": {
   "display_name": "Python 3",
   "language": "python",
   "name": "python3"
  },
  "language_info": {
   "codemirror_mode": {
    "name": "ipython",
    "version": 3
   },
   "file_extension": ".py",
   "mimetype": "text/x-python",
   "name": "python",
   "nbconvert_exporter": "python",
   "pygments_lexer": "ipython3",
   "version": "3.7.3"
  },
  "nteract": {
   "version": "0.12.3"
  }
 },
 "nbformat": 4,
 "nbformat_minor": 4
}

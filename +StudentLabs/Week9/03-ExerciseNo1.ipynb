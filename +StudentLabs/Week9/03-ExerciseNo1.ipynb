{
 "cells": [
  {
   "cell_type": "markdown",
   "metadata": {},
   "source": [
    "\n",
    "# Exercise 1\n",
    "\n",
    "Make a map of some Earthquake data superimposed on a grayscale of the topography.\n",
    "You can choose your own projection, how much data, how to colour the data etc.\n",
    "\n",
    "**If you want to keep this map ... save it and download the image to your machine**"
   ]
  },
  {
   "cell_type": "code",
   "execution_count": 1,
   "metadata": {
    "collapsed": true
   },
   "outputs": [],
   "source": [
    "# First ... you will probably need all of these\n",
    "\n",
    "import cartopy\n",
    "import cartopy.crs as ccrs\n",
    "import matplotlib\n",
    "import matplotlib.pyplot as plt\n",
    "\n",
    "# A general library for reading image files and converting to arrays etc\n",
    "import imageio\n",
    "\n",
    "# The universal solvent for arrays (and hence images).\n",
    "import numpy as np"
   ]
  },
  {
   "cell_type": "code",
   "execution_count": 2,
   "metadata": {
    "collapsed": true
   },
   "outputs": [],
   "source": [
    "# Use these cells to grab the data / images you need\n",
    "\n",
    "# e.g.   \n",
    "\n",
    "eq_events_by_year = np.load('../+Data/events_4.5+by_year_1970-2019.npy', allow_pickle=True).item()\n",
    "\n",
    "# and ... \n",
    "\n",
    "\n"
   ]
  },
  {
   "cell_type": "code",
   "execution_count": 4,
   "metadata": {
    "collapsed": true
   },
   "outputs": [
    {
     "data": {
      "image/png": "[encoded data removed]",
      "text/plain": [
       "<Figure size 864x864 with 1 Axes>"
      ]
     },
     "metadata": {
      "needs_background": "light"
     },
     "output_type": "display_data"
    }
   ],
   "source": [
    "## Plot your map here !\n",
    "\n",
    "fig=plt.figure(figsize=(12, 12), facecolor=\"none\")\n",
    "ax = plt.axes(projection=ccrs.PlateCarree())\n",
    "\n",
    "# etc\n",
    "\n",
    "# fig.savefig(\"Myfile.jpg\", dpi=300)\n"
   ]
  },
  {
   "cell_type": "markdown",
   "metadata": {},
   "source": [
    "### Caption\n",
    "\n",
    "Explain / justify the choices you made in creating your map."
   ]
  }
 ],
 "metadata": {
  "kernelspec": {
   "display_name": "Python 2",
   "language": "python",
   "name": "python2"
  },
  "language_info": {
   "codemirror_mode": {
    "name": "ipython",
    "version": 3
   },
   "file_extension": ".py",
   "mimetype": "text/x-python",
   "name": "python",
   "nbconvert_exporter": "python",
   "pygments_lexer": "ipython3",
   "version": "3.7.3"
  }
 },
 "nbformat": 4,
 "nbformat_minor": 2
}

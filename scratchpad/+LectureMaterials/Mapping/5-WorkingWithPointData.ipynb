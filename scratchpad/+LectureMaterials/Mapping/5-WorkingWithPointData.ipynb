{
  "cells": [
    {
      "cell_type": "markdown",
      "source": [
        "## Point Data\n",
        "\n",
        "Here we are going to plot some markers on top of the maps we already made. We will use seismicity information since this is so readily available online (we use GeoJSON files from the [USGS site](http://earthquake.usgs.gov/earthquakes/search/) since these are easy to parse. Typically you have a limit on how many data to grab in each pass so if you want a global dataset you end up with fewer small events or a limited date range. I did this for a few places for you.\n"
      ],
      "metadata": {}
    },
    {
      "cell_type": "code",
      "source": [
        "%pylab inline\n",
        "\n",
        "# import gdal\n",
        "import cartopy\n",
        "import cartopy.crs as ccrs\n",
        "import cartopy.feature as cfeature\n",
        "\n",
        "import matplotlib.pyplot as plt\n",
        "import numpy\n"
      ],
      "outputs": [
        {
          "output_type": "stream",
          "name": "stdout",
          "text": [
            "Populating the interactive namespace from numpy and matplotlib\n"
          ]
        },
        {
          "output_type": "error",
          "ename": "ImportError",
          "evalue": "No module named cartopy",
          "traceback": [
            "\u001b[0;31m\u001b[0m",
            "\u001b[0;31mImportError\u001b[0mTraceback (most recent call last)",
            "\u001b[0;32m<ipython-input-12-2f52dcc4194f>\u001b[0m in \u001b[0;36m<module>\u001b[0;34m()\u001b[0m\n\u001b[1;32m      2\u001b[0m \u001b[0;34m\u001b[0m\u001b[0m\n\u001b[1;32m      3\u001b[0m \u001b[0;31m# import gdal\u001b[0m\u001b[0;34m\u001b[0m\u001b[0;34m\u001b[0m\u001b[0m\n\u001b[0;32m----> 4\u001b[0;31m \u001b[0;32mimport\u001b[0m \u001b[0mcartopy\u001b[0m\u001b[0;34m\u001b[0m\u001b[0m\n\u001b[0m\u001b[1;32m      5\u001b[0m \u001b[0;32mimport\u001b[0m \u001b[0mcartopy\u001b[0m\u001b[0;34m.\u001b[0m\u001b[0mcrs\u001b[0m \u001b[0;32mas\u001b[0m \u001b[0mccrs\u001b[0m\u001b[0;34m\u001b[0m\u001b[0m\n\u001b[1;32m      6\u001b[0m \u001b[0;32mimport\u001b[0m \u001b[0mcartopy\u001b[0m\u001b[0;34m.\u001b[0m\u001b[0mfeature\u001b[0m \u001b[0;32mas\u001b[0m \u001b[0mcfeature\u001b[0m\u001b[0;34m\u001b[0m\u001b[0m\n",
            "\u001b[0;31mImportError\u001b[0m: No module named cartopy"
          ]
        }
      ],
      "execution_count": 12,
      "metadata": {}
    },
    {
      "cell_type": "code",
      "source": [
        "base_projection     = ccrs.PlateCarree() \n",
        "global_extent     = [-180.0, 180.0, -90.0, 90.0]\n",
        "globalmag         = gdal.Open(\"../../Data/Resources/EMAG2_image_V2.tif\")\n",
        "globalmag_img     = globalmag.ReadAsArray().transpose(1,2,0)\n",
        "globalmarble      = gdal.Open(\"../../Data/Resources/BlueMarbleNG-TB_2004-06-01_rgb_3600x1800.TIFF\")\n",
        "globalmarble_img  = globalmarble.ReadAsArray().transpose(1,2,0)\n",
        "globaletopo       = gdal.Open(\"../../Data/Resources/color_etopo1_ice_low.tif\")\n",
        "globaletopo_img   = globaletopo.ReadAsArray().transpose(1,2,0)\n",
        "globaletopobw       = gdal.Open(\"../../Data/Resources/etopo1_grayscale_hillshade.tif\")\n",
        "globaletopobw_img   = globaletopobw.ReadAsArray()[::3,::3] / 256.0"
      ],
      "outputs": [
        {
          "output_type": "error",
          "ename": "NameError",
          "evalue": "name 'ccrs' is not defined",
          "traceback": [
            "\u001b[0;31m\u001b[0m",
            "\u001b[0;31mNameError\u001b[0mTraceback (most recent call last)",
            "\u001b[0;32m<ipython-input-2-a935d574382a>\u001b[0m in \u001b[0;36m<module>\u001b[0;34m()\u001b[0m\n\u001b[0;32m----> 1\u001b[0;31m \u001b[0mbase_projection\u001b[0m     \u001b[0;34m=\u001b[0m \u001b[0mccrs\u001b[0m\u001b[0;34m.\u001b[0m\u001b[0mPlateCarree\u001b[0m\u001b[0;34m(\u001b[0m\u001b[0;34m)\u001b[0m\u001b[0;34m\u001b[0m\u001b[0m\n\u001b[0m\u001b[1;32m      2\u001b[0m \u001b[0mglobal_extent\u001b[0m     \u001b[0;34m=\u001b[0m \u001b[0;34m[\u001b[0m\u001b[0;34m-\u001b[0m\u001b[0;36m180.0\u001b[0m\u001b[0;34m,\u001b[0m \u001b[0;36m180.0\u001b[0m\u001b[0;34m,\u001b[0m \u001b[0;34m-\u001b[0m\u001b[0;36m90.0\u001b[0m\u001b[0;34m,\u001b[0m \u001b[0;36m90.0\u001b[0m\u001b[0;34m]\u001b[0m\u001b[0;34m\u001b[0m\u001b[0m\n\u001b[1;32m      3\u001b[0m \u001b[0mglobalmag\u001b[0m         \u001b[0;34m=\u001b[0m \u001b[0mgdal\u001b[0m\u001b[0;34m.\u001b[0m\u001b[0mOpen\u001b[0m\u001b[0;34m(\u001b[0m\u001b[0;34m\"../../Data/Resources/EMAG2_image_V2.tif\"\u001b[0m\u001b[0;34m)\u001b[0m\u001b[0;34m\u001b[0m\u001b[0m\n\u001b[1;32m      4\u001b[0m \u001b[0mglobalmag_img\u001b[0m     \u001b[0;34m=\u001b[0m \u001b[0mglobalmag\u001b[0m\u001b[0;34m.\u001b[0m\u001b[0mReadAsArray\u001b[0m\u001b[0;34m(\u001b[0m\u001b[0;34m)\u001b[0m\u001b[0;34m.\u001b[0m\u001b[0mtranspose\u001b[0m\u001b[0;34m(\u001b[0m\u001b[0;36m1\u001b[0m\u001b[0;34m,\u001b[0m\u001b[0;36m2\u001b[0m\u001b[0;34m,\u001b[0m\u001b[0;36m0\u001b[0m\u001b[0;34m)\u001b[0m\u001b[0;34m\u001b[0m\u001b[0m\n\u001b[1;32m      5\u001b[0m \u001b[0mglobalmarble\u001b[0m      \u001b[0;34m=\u001b[0m \u001b[0mgdal\u001b[0m\u001b[0;34m.\u001b[0m\u001b[0mOpen\u001b[0m\u001b[0;34m(\u001b[0m\u001b[0;34m\"../../Data/Resources/BlueMarbleNG-TB_2004-06-01_rgb_3600x1800.TIFF\"\u001b[0m\u001b[0;34m)\u001b[0m\u001b[0;34m\u001b[0m\u001b[0m\n",
            "\u001b[0;31mNameError\u001b[0m: name 'ccrs' is not defined"
          ]
        }
      ],
      "execution_count": 2,
      "metadata": {}
    },
    {
      "cell_type": "code",
      "source": [
        "# \"Features\" such as land, ocean, coastlines (50m =  the 1:50 million scale)\n",
        "\n",
        "land = cfeature.NaturalEarthFeature('physical', 'land', '50m',\n",
        "                           edgecolor=\"green\",\n",
        "                           facecolor=\"white\")\n",
        "\n",
        "ocean = cfeature.NaturalEarthFeature('physical', 'ocean', '50m',\n",
        "                           edgecolor=\"green\",\n",
        "                           facecolor=\"blue\")\n",
        "\n",
        "coastline = cfeature.NaturalEarthFeature('physical', 'coastline', '50m',\n",
        "                           edgecolor=(0.0,0.0,0.0),\n",
        "                           facecolor=\"none\")\n",
        "\n",
        "# Add these to the plot object as\n",
        "# ax.add_feature(coastline, linewidth=4, edgecolor=(1,0,1) zorder=1)\n",
        "# and so forth. zorder is used to force the layering as required."
      ],
      "outputs": [
        {
          "output_type": "error",
          "ename": "NameError",
          "evalue": "name 'cfeature' is not defined",
          "traceback": [
            "\u001b[0;31m\u001b[0m",
            "\u001b[0;31mNameError\u001b[0mTraceback (most recent call last)",
            "\u001b[0;32m<ipython-input-3-67515fb3fd9a>\u001b[0m in \u001b[0;36m<module>\u001b[0;34m()\u001b[0m\n\u001b[1;32m      1\u001b[0m \u001b[0;31m# \"Features\" such as land, ocean, coastlines (50m =  the 1:50 million scale)\u001b[0m\u001b[0;34m\u001b[0m\u001b[0;34m\u001b[0m\u001b[0m\n\u001b[1;32m      2\u001b[0m \u001b[0;34m\u001b[0m\u001b[0m\n\u001b[0;32m----> 3\u001b[0;31m land = cfeature.NaturalEarthFeature('physical', 'land', '50m',\n\u001b[0m\u001b[1;32m      4\u001b[0m                            \u001b[0medgecolor\u001b[0m\u001b[0;34m=\u001b[0m\u001b[0;34m\"green\"\u001b[0m\u001b[0;34m,\u001b[0m\u001b[0;34m\u001b[0m\u001b[0m\n\u001b[1;32m      5\u001b[0m                            facecolor=\"white\")\n",
            "\u001b[0;31mNameError\u001b[0m: name 'cfeature' is not defined"
          ]
        }
      ],
      "execution_count": 3,
      "metadata": {}
    },
    {
      "cell_type": "code",
      "source": [
        "# Recent earthquake data (from static downloaded files)\n",
        "\n",
        "import json\n",
        "\n",
        "# 1 Global\n",
        "\n",
        "earthquakes_datafile=open('../../Data/Resources/Earthquakes-2000-2014-5.5+.json')\n",
        "earthquakes_data = json.load(earthquakes_datafile)\n",
        "earthquakes_datafile.close()\n",
        "earthquakes = earthquakes_data[\"features\"]\n",
        "\n",
        "# Now we have a dictionary of many, many events\n",
        "\n",
        "eqlon = numpy.empty(len(earthquakes))\n",
        "eqlat = numpy.empty(len(earthquakes))\n",
        "eqdep = numpy.empty(len(earthquakes))\n",
        "eqmag = numpy.empty(len(earthquakes))\n",
        "\n",
        "for i,eq in enumerate(earthquakes):\n",
        "    eqlon[i], eqlat[i], eqdep[i] = eq[\"geometry\"][\"coordinates\"]\n",
        "    eqmag[i] = eq[\"properties\"][\"mag\"]\n",
        "\n",
        "print (\"Global depth range:     \", eqdep.min(),\" - \", eqdep.max())\n",
        "print (\"Global magnitude range: \", eqmag.min(),\" - \", eqmag.max())\n",
        "\n",
        "    \n",
        "# 2 Australian\n",
        "\n",
        "earthquakes_datafile=open('../../Data/Resources/Earthquakes-AusRegion-2000-2014-4.8-5.5+.json')\n",
        "earthquakes_data = json.load(earthquakes_datafile)\n",
        "earthquakes_datafile.close()\n",
        "earthquakes = earthquakes_data[\"features\"]\n",
        "\n",
        "# Now we have a dictionary of many, many events\n",
        "\n",
        "ausqlon = numpy.empty(len(earthquakes))\n",
        "ausqlat = numpy.empty(len(earthquakes))\n",
        "ausqdep = numpy.empty(len(earthquakes))\n",
        "ausqmag = numpy.empty(len(earthquakes))\n",
        "\n",
        "for i, eq in enumerate(earthquakes):\n",
        "    ausqlon[i], ausqlat[i], ausqdep[i] = eq[\"geometry\"][\"coordinates\"]\n",
        "    ausqmag[i] = eq[\"properties\"][\"mag\"]\n",
        " \n",
        "print (\"Aus Region depth range:     \", ausqdep.min(),\" - \", ausqdep.max())\n",
        "print (\"Aus Region magnitude range: \", ausqmag.min(),\" - \", ausqmag.max())\n",
        "\n",
        "#3 Japanese - Earthquakes-JapanRegion-2009-2014-4.5+.json\n",
        "\n",
        "earthquakes_datafile=open('../../Data/Resources/Earthquakes-JapanRegion-2009-2014-4.5+.json')\n",
        "earthquakes_data = json.load(earthquakes_datafile)\n",
        "earthquakes_datafile.close()\n",
        "earthquakes = earthquakes_data[\"features\"]\n",
        "\n",
        "#3+ South of 30 degrees: Earthquakes-IBMRegion-1990-2014-3+.json\n",
        "\n",
        "earthquakes_datafile=open('../../Data/Resources/Earthquakes-IBMRegion-1990-2014-3+.json')\n",
        "earthquakes_data = json.load(earthquakes_datafile)\n",
        "earthquakes_datafile.close()\n",
        "\n",
        "earthquakes.extend(earthquakes_data[\"features\"])\n",
        "\n",
        "jpqlon = numpy.empty(len(earthquakes))\n",
        "jpqlat = numpy.empty(len(earthquakes))\n",
        "jpqdep = numpy.empty(len(earthquakes))\n",
        "jpqmag = numpy.empty(len(earthquakes))\n",
        "\n",
        "for i, eq in enumerate(earthquakes):\n",
        "    jpqlon[i], jpqlat[i], jpqdep[i] = eq[\"geometry\"][\"coordinates\"]\n",
        "    jpqmag[i] = eq[\"properties\"][\"mag\"]\n",
        "    \n",
        "    \n",
        "print (\"Japan Region depth range:     \", jpqdep.min(),\" - \", jpqdep.max())\n",
        "print (\"Japan Region magnitude range: \", jpqmag.min(),\" - \", jpqmag.max())\n",
        "\n",
        "    \n",
        "norm_eqdep = matplotlib.colors.Normalize(vmin = 0.0, vmax = 200, clip = False)\n",
        "\n",
        "#4 Yakutat EQ\n",
        "\n",
        "\n",
        "earthquakes_datafile=open('../../Data/Resources/Earthquakes-YakutatRegion-1990-2014-3+.json')\n",
        "earthquakes_data = json.load(earthquakes_datafile)\n",
        "earthquakes_datafile.close()\n",
        "earthquakes = earthquakes_data[\"features\"]\n",
        " \n",
        "yakqlon = numpy.empty(len(earthquakes))\n",
        "yakqlat = numpy.empty(len(earthquakes))\n",
        "yakqdep = numpy.empty(len(earthquakes))\n",
        "yakqmag = numpy.empty(len(earthquakes))\n",
        "\n",
        "for i, eq in enumerate(earthquakes):\n",
        "    yakqlon[i], yakqlat[i], yakqdep[i] = eq[\"geometry\"][\"coordinates\"]\n",
        "    yakqmag[i] = eq[\"properties\"][\"mag\"]\n",
        "\n",
        "\n",
        "print (\"Yakutat Region depth range:     \", yakqdep.min(),\" - \", yakqdep.max())\n",
        "print (\"Yakutat Region magnitude range: \", yakqmag.min(),\" - \", yakqmag.max())\n",
        "\n",
        "earthquakes_datafile=open('../../Data/Resources/Earthquakes-MeditRegion-1990-2014-3+.json')\n",
        "earthquakes_data = json.load(earthquakes_datafile)\n",
        "earthquakes_datafile.close()\n",
        "earthquakes = earthquakes_data[\"features\"]\n",
        "\n",
        "itqlon = numpy.empty(len(earthquakes))\n",
        "itqlat = numpy.empty(len(earthquakes))\n",
        "itqdep = numpy.empty(len(earthquakes))\n",
        "itqmag = numpy.empty(len(earthquakes))\n",
        "\n",
        "for i, eq in enumerate(earthquakes):\n",
        "    itqlon[i], itqlat[i], itqdep[i] = eq[\"geometry\"][\"coordinates\"]\n",
        "    itqmag[i] = eq[\"properties\"][\"mag\"]\n",
        "\n",
        "    \n",
        "print (\"Vatican Region depth range:     \", itqdep.min(),\" - \", itqdep.max())\n",
        "print (\"Vatican Region magnitude range: \", itqmag.min(),\" - \", itqmag.max())\n"
      ],
      "outputs": [
        {
          "output_type": "error",
          "ename": "IOError",
          "evalue": "[Errno 2] No such file or directory: '../../Data/Resources/Earthquakes-2000-2014-5.5+.json'",
          "traceback": [
            "\u001b[0;31m\u001b[0m",
            "\u001b[0;31mIOError\u001b[0mTraceback (most recent call last)",
            "\u001b[0;32m<ipython-input-4-7d699dcb5bcb>\u001b[0m in \u001b[0;36m<module>\u001b[0;34m()\u001b[0m\n\u001b[1;32m      5\u001b[0m \u001b[0;31m# 1 Global\u001b[0m\u001b[0;34m\u001b[0m\u001b[0;34m\u001b[0m\u001b[0m\n\u001b[1;32m      6\u001b[0m \u001b[0;34m\u001b[0m\u001b[0m\n\u001b[0;32m----> 7\u001b[0;31m \u001b[0mearthquakes_datafile\u001b[0m\u001b[0;34m=\u001b[0m\u001b[0mopen\u001b[0m\u001b[0;34m(\u001b[0m\u001b[0;34m'../../Data/Resources/Earthquakes-2000-2014-5.5+.json'\u001b[0m\u001b[0;34m)\u001b[0m\u001b[0;34m\u001b[0m\u001b[0m\n\u001b[0m\u001b[1;32m      8\u001b[0m \u001b[0mearthquakes_data\u001b[0m \u001b[0;34m=\u001b[0m \u001b[0mjson\u001b[0m\u001b[0;34m.\u001b[0m\u001b[0mload\u001b[0m\u001b[0;34m(\u001b[0m\u001b[0mearthquakes_datafile\u001b[0m\u001b[0;34m)\u001b[0m\u001b[0;34m\u001b[0m\u001b[0m\n\u001b[1;32m      9\u001b[0m \u001b[0mearthquakes_datafile\u001b[0m\u001b[0;34m.\u001b[0m\u001b[0mclose\u001b[0m\u001b[0;34m(\u001b[0m\u001b[0;34m)\u001b[0m\u001b[0;34m\u001b[0m\u001b[0m\n",
            "\u001b[0;31mIOError\u001b[0m: [Errno 2] No such file or directory: '../../Data/Resources/Earthquakes-2000-2014-5.5+.json'"
          ]
        }
      ],
      "execution_count": 4,
      "metadata": {}
    },
    {
      "cell_type": "markdown",
      "source": [
        "### Plotting points\n",
        "\n",
        "We add the points to the map using the usual plotting tools from matplotlib plus the transformation argument"
      ],
      "metadata": {}
    },
    {
      "cell_type": "code",
      "source": [
        "projection = ccrs.PlateCarree()\n",
        "\n",
        "fig = plt.figure(figsize=(12, 12), facecolor=\"none\")\n",
        "ax = plt.axes(projection=projection)\n",
        "ax.set_extent([0, 40, 28, 48])\n",
        "\n",
        "#ax.add_feature(land, edgecolor=\"black\", alpha=0.1, linewidth=2)\n",
        "ax.add_feature(ocean, alpha=0.1, zorder=1)\n",
        "\n",
        "ax.imshow(globaletopo_img, origin='upper', transform=base_projection, extent=global_extent)\n",
        "ax.imshow(globaletopobw_img, origin='upper', cmap=mpl.cm.Greys, transform=base_projection, extent=global_extent, alpha=0.75, zorder=1)\n",
        "\n",
        "plt.scatter(itqlon, itqlat, c=itqdep, cmap=mpl.cm.jet_r, norm=norm_eqdep, linewidth=0, \n",
        "            s=(itqmag-3.0)*10, transform=ccrs.Geodetic(), alpha=0.333, zorder=2)\n",
        "\n",
        "plt.show()\n"
      ],
      "outputs": [
        {
          "output_type": "error",
          "ename": "NameError",
          "evalue": "name 'ccrs' is not defined",
          "traceback": [
            "\u001b[0;31m\u001b[0m",
            "\u001b[0;31mNameError\u001b[0mTraceback (most recent call last)",
            "\u001b[0;32m<ipython-input-5-bf7318d4bbd8>\u001b[0m in \u001b[0;36m<module>\u001b[0;34m()\u001b[0m\n\u001b[0;32m----> 1\u001b[0;31m \u001b[0mprojection\u001b[0m \u001b[0;34m=\u001b[0m \u001b[0mccrs\u001b[0m\u001b[0;34m.\u001b[0m\u001b[0mPlateCarree\u001b[0m\u001b[0;34m(\u001b[0m\u001b[0;34m)\u001b[0m\u001b[0;34m\u001b[0m\u001b[0m\n\u001b[0m\u001b[1;32m      2\u001b[0m \u001b[0;34m\u001b[0m\u001b[0m\n\u001b[1;32m      3\u001b[0m \u001b[0mfig\u001b[0m \u001b[0;34m=\u001b[0m \u001b[0mplt\u001b[0m\u001b[0;34m.\u001b[0m\u001b[0mfigure\u001b[0m\u001b[0;34m(\u001b[0m\u001b[0mfigsize\u001b[0m\u001b[0;34m=\u001b[0m\u001b[0;34m(\u001b[0m\u001b[0;36m12\u001b[0m\u001b[0;34m,\u001b[0m \u001b[0;36m12\u001b[0m\u001b[0;34m)\u001b[0m\u001b[0;34m,\u001b[0m \u001b[0mfacecolor\u001b[0m\u001b[0;34m=\u001b[0m\u001b[0;34m\"none\"\u001b[0m\u001b[0;34m)\u001b[0m\u001b[0;34m\u001b[0m\u001b[0m\n\u001b[1;32m      4\u001b[0m \u001b[0max\u001b[0m \u001b[0;34m=\u001b[0m \u001b[0mplt\u001b[0m\u001b[0;34m.\u001b[0m\u001b[0maxes\u001b[0m\u001b[0;34m(\u001b[0m\u001b[0mprojection\u001b[0m\u001b[0;34m=\u001b[0m\u001b[0mprojection\u001b[0m\u001b[0;34m)\u001b[0m\u001b[0;34m\u001b[0m\u001b[0m\n\u001b[1;32m      5\u001b[0m \u001b[0max\u001b[0m\u001b[0;34m.\u001b[0m\u001b[0mset_extent\u001b[0m\u001b[0;34m(\u001b[0m\u001b[0;34m[\u001b[0m\u001b[0;36m0\u001b[0m\u001b[0;34m,\u001b[0m \u001b[0;36m40\u001b[0m\u001b[0;34m,\u001b[0m \u001b[0;36m28\u001b[0m\u001b[0;34m,\u001b[0m \u001b[0;36m48\u001b[0m\u001b[0;34m]\u001b[0m\u001b[0;34m)\u001b[0m\u001b[0;34m\u001b[0m\u001b[0m\n",
            "\u001b[0;31mNameError\u001b[0m: name 'ccrs' is not defined"
          ]
        }
      ],
      "execution_count": 5,
      "metadata": {}
    },
    {
      "cell_type": "code",
      "source": [
        "# Italy / Mediterranean earthquakes\n",
        "\n",
        "\n",
        "projection = ccrs.PlateCarree()\n",
        "\n",
        "fig = plt.figure(figsize=(12, 12), facecolor=\"none\")\n",
        "ax = plt.axes(projection=projection)\n",
        "ax.set_extent([0, 40, 28, 48])\n",
        "\n",
        "ax.add_feature(land, edgecolor=\"black\", alpha=0.1, linewidth=2)\n",
        "ax.add_feature(ocean, alpha=0.1, zorder=1)\n",
        "\n",
        "ax.imshow(globaletopo_img, origin='upper', transform=base_projection, extent=global_extent)\n",
        "ax.imshow(globaletopobw_img, origin='upper', cmap=mpl.cm.Greys, transform=base_projection, extent=global_extent, alpha=0.85, zorder=1)\n",
        "\n",
        "plt.scatter(itqlon, itqlat, c=itqdep, cmap=mpl.cm.jet_r, norm=norm_eqdep, linewidth=0, \n",
        "            s=(itqmag-3.0)*10, transform=ccrs.Geodetic(), alpha=0.333, zorder=2)\n",
        "\n",
        "\n",
        "plt.savefig(\"ItaliaEq.png\")\n",
        "\n",
        "plt.show()\n",
        "\n"
      ],
      "outputs": [
        {
          "output_type": "error",
          "ename": "NameError",
          "evalue": "name 'ccrs' is not defined",
          "traceback": [
            "\u001b[0;31m\u001b[0m",
            "\u001b[0;31mNameError\u001b[0mTraceback (most recent call last)",
            "\u001b[0;32m<ipython-input-6-1eecb163f079>\u001b[0m in \u001b[0;36m<module>\u001b[0;34m()\u001b[0m\n\u001b[1;32m      2\u001b[0m \u001b[0;34m\u001b[0m\u001b[0m\n\u001b[1;32m      3\u001b[0m \u001b[0;34m\u001b[0m\u001b[0m\n\u001b[0;32m----> 4\u001b[0;31m \u001b[0mprojection\u001b[0m \u001b[0;34m=\u001b[0m \u001b[0mccrs\u001b[0m\u001b[0;34m.\u001b[0m\u001b[0mPlateCarree\u001b[0m\u001b[0;34m(\u001b[0m\u001b[0;34m)\u001b[0m\u001b[0;34m\u001b[0m\u001b[0m\n\u001b[0m\u001b[1;32m      5\u001b[0m \u001b[0;34m\u001b[0m\u001b[0m\n\u001b[1;32m      6\u001b[0m \u001b[0mfig\u001b[0m \u001b[0;34m=\u001b[0m \u001b[0mplt\u001b[0m\u001b[0;34m.\u001b[0m\u001b[0mfigure\u001b[0m\u001b[0;34m(\u001b[0m\u001b[0mfigsize\u001b[0m\u001b[0;34m=\u001b[0m\u001b[0;34m(\u001b[0m\u001b[0;36m12\u001b[0m\u001b[0;34m,\u001b[0m \u001b[0;36m12\u001b[0m\u001b[0;34m)\u001b[0m\u001b[0;34m,\u001b[0m \u001b[0mfacecolor\u001b[0m\u001b[0;34m=\u001b[0m\u001b[0;34m\"none\"\u001b[0m\u001b[0;34m)\u001b[0m\u001b[0;34m\u001b[0m\u001b[0m\n",
            "\u001b[0;31mNameError\u001b[0m: name 'ccrs' is not defined"
          ]
        }
      ],
      "execution_count": 6,
      "metadata": {}
    },
    {
      "cell_type": "code",
      "source": [
        "# Seafloor age data and global image - data from Earthbyters\n",
        "\n",
        "datasize = (1801, 3601, 3)\n",
        "age_data = np.empty(datasize)\n",
        "\n",
        "ages = np.load(\"../../Data/Resources/global_age_data.3.6.z.npz\")[\"ageData\"]\n",
        "\n",
        "lats = np.linspace(90, -90, datasize[0])\n",
        "lons = np.linspace(-180.0,180.0, datasize[1])\n",
        "\n",
        "arrlons,arrlats = np.meshgrid(lons, lats)\n",
        "\n",
        "age_data[...,0] = arrlons[...]\n",
        "age_data[...,1] = arrlats[...]\n",
        "age_data[...,2] = ages[...]\n",
        "\n"
      ],
      "outputs": [
        {
          "output_type": "error",
          "ename": "IOError",
          "evalue": "[Errno 2] No such file or directory: '../../Data/Resources/global_age_data.3.6.z.npz'",
          "traceback": [
            "\u001b[0;31m\u001b[0m",
            "\u001b[0;31mIOError\u001b[0mTraceback (most recent call last)",
            "\u001b[0;32m<ipython-input-7-2f318000a979>\u001b[0m in \u001b[0;36m<module>\u001b[0;34m()\u001b[0m\n\u001b[1;32m      4\u001b[0m \u001b[0mage_data\u001b[0m \u001b[0;34m=\u001b[0m \u001b[0mnp\u001b[0m\u001b[0;34m.\u001b[0m\u001b[0mempty\u001b[0m\u001b[0;34m(\u001b[0m\u001b[0mdatasize\u001b[0m\u001b[0;34m)\u001b[0m\u001b[0;34m\u001b[0m\u001b[0m\n\u001b[1;32m      5\u001b[0m \u001b[0;34m\u001b[0m\u001b[0m\n\u001b[0;32m----> 6\u001b[0;31m \u001b[0mages\u001b[0m \u001b[0;34m=\u001b[0m \u001b[0mnp\u001b[0m\u001b[0;34m.\u001b[0m\u001b[0mload\u001b[0m\u001b[0;34m(\u001b[0m\u001b[0;34m\"../../Data/Resources/global_age_data.3.6.z.npz\"\u001b[0m\u001b[0;34m)\u001b[0m\u001b[0;34m[\u001b[0m\u001b[0;34m\"ageData\"\u001b[0m\u001b[0;34m]\u001b[0m\u001b[0;34m\u001b[0m\u001b[0m\n\u001b[0m\u001b[1;32m      7\u001b[0m \u001b[0;34m\u001b[0m\u001b[0m\n\u001b[1;32m      8\u001b[0m \u001b[0mlats\u001b[0m \u001b[0;34m=\u001b[0m \u001b[0mnp\u001b[0m\u001b[0;34m.\u001b[0m\u001b[0mlinspace\u001b[0m\u001b[0;34m(\u001b[0m\u001b[0;36m90\u001b[0m\u001b[0;34m,\u001b[0m \u001b[0;34m-\u001b[0m\u001b[0;36m90\u001b[0m\u001b[0;34m,\u001b[0m \u001b[0mdatasize\u001b[0m\u001b[0;34m[\u001b[0m\u001b[0;36m0\u001b[0m\u001b[0;34m]\u001b[0m\u001b[0;34m)\u001b[0m\u001b[0;34m\u001b[0m\u001b[0m\n",
            "\u001b[0;32m/usr/local/lib/python2.7/site-packages/numpy/lib/npyio.pyc\u001b[0m in \u001b[0;36mload\u001b[0;34m(file, mmap_mode, allow_pickle, fix_imports, encoding)\u001b[0m\n\u001b[1;32m    382\u001b[0m     \u001b[0mown_fid\u001b[0m \u001b[0;34m=\u001b[0m \u001b[0mFalse\u001b[0m\u001b[0;34m\u001b[0m\u001b[0m\n\u001b[1;32m    383\u001b[0m     \u001b[0;32mif\u001b[0m \u001b[0misinstance\u001b[0m\u001b[0;34m(\u001b[0m\u001b[0mfile\u001b[0m\u001b[0;34m,\u001b[0m \u001b[0mbasestring\u001b[0m\u001b[0;34m)\u001b[0m\u001b[0;34m:\u001b[0m\u001b[0;34m\u001b[0m\u001b[0m\n\u001b[0;32m--> 384\u001b[0;31m         \u001b[0mfid\u001b[0m \u001b[0;34m=\u001b[0m \u001b[0mopen\u001b[0m\u001b[0;34m(\u001b[0m\u001b[0mfile\u001b[0m\u001b[0;34m,\u001b[0m \u001b[0;34m\"rb\"\u001b[0m\u001b[0;34m)\u001b[0m\u001b[0;34m\u001b[0m\u001b[0m\n\u001b[0m\u001b[1;32m    385\u001b[0m         \u001b[0mown_fid\u001b[0m \u001b[0;34m=\u001b[0m \u001b[0mTrue\u001b[0m\u001b[0;34m\u001b[0m\u001b[0m\n\u001b[1;32m    386\u001b[0m     \u001b[0;32melif\u001b[0m \u001b[0mis_pathlib_path\u001b[0m\u001b[0;34m(\u001b[0m\u001b[0mfile\u001b[0m\u001b[0;34m)\u001b[0m\u001b[0;34m:\u001b[0m\u001b[0;34m\u001b[0m\u001b[0m\n",
            "\u001b[0;31mIOError\u001b[0m: [Errno 2] No such file or directory: '../../Data/Resources/global_age_data.3.6.z.npz'"
          ]
        }
      ],
      "execution_count": 7,
      "metadata": {}
    },
    {
      "cell_type": "code",
      "source": [
        "# Global\n",
        "\n",
        "\n",
        "projection = ccrs.PlateCarree()\n",
        "bg_projection = ccrs.PlateCarree()\n",
        "\n",
        "\n",
        "fig = plt.figure(figsize=(10, 10), facecolor=\"none\", edgecolor=\"none\")\n",
        "\n",
        "ax = plt.axes(projection=projection)\n",
        "ax.set_extent(global_extent)\n",
        "\n",
        "ax.add_feature(land, edgecolor=\"black\", alpha=0.2, linewidth=0.25)\n",
        "# ax.add_feature(ocean, alpha=0.1, zorder=1)\n",
        "ax.add_feature(coastline, alpha=1.0, linewidth=0.33)\n",
        "\n",
        "ax.imshow(globaletopobw_img, origin='upper', transform=base_projection, extent=global_extent, zorder=0, cmap=\"gray\")\n",
        "\n",
        "cf = contourf(age_data[:,:,0], age_data[:,:,1], age_data[:,:,2], \n",
        "         levels = arange(0.5,250,10), vmin=0, vmax=150,\n",
        "         transform=base_projection,  cmap=\"RdYlBu\",zorder=2, alpha=0.75)\n",
        "\n",
        "contour(age_data[:,:,0], age_data[:,:,1], age_data[:,:,2], levels = (0.1,0.5), colors=\"white\", transform=base_projection)\n",
        "\n",
        "\n",
        "plt.scatter(eqlon, eqlat, c=eqdep, cmap=mpl.cm.jet_r, norm=norm_eqdep, linewidth=0.33, \n",
        "            s=(eqmag-5.5)*10, transform=ccrs.Geodetic(), alpha=0.7, zorder=2)\n",
        "\n",
        "plt.savefig(\"GlobalAgeMapEq.png\", dpi=600, frameon=False, edgecolor=\"none\", facecolor=\"none\", bbox_inches='tight', pad_inches=0.0)\n",
        "\n",
        "\n",
        "\n"
      ],
      "outputs": [
        {
          "output_type": "error",
          "ename": "NameError",
          "evalue": "name 'ccrs' is not defined",
          "traceback": [
            "\u001b[0;31m\u001b[0m",
            "\u001b[0;31mNameError\u001b[0mTraceback (most recent call last)",
            "\u001b[0;32m<ipython-input-8-85e0671b65b2>\u001b[0m in \u001b[0;36m<module>\u001b[0;34m()\u001b[0m\n\u001b[1;32m      2\u001b[0m \u001b[0;34m\u001b[0m\u001b[0m\n\u001b[1;32m      3\u001b[0m \u001b[0;34m\u001b[0m\u001b[0m\n\u001b[0;32m----> 4\u001b[0;31m \u001b[0mprojection\u001b[0m \u001b[0;34m=\u001b[0m \u001b[0mccrs\u001b[0m\u001b[0;34m.\u001b[0m\u001b[0mPlateCarree\u001b[0m\u001b[0;34m(\u001b[0m\u001b[0;34m)\u001b[0m\u001b[0;34m\u001b[0m\u001b[0m\n\u001b[0m\u001b[1;32m      5\u001b[0m \u001b[0mbg_projection\u001b[0m \u001b[0;34m=\u001b[0m \u001b[0mccrs\u001b[0m\u001b[0;34m.\u001b[0m\u001b[0mPlateCarree\u001b[0m\u001b[0;34m(\u001b[0m\u001b[0;34m)\u001b[0m\u001b[0;34m\u001b[0m\u001b[0m\n\u001b[1;32m      6\u001b[0m \u001b[0;34m\u001b[0m\u001b[0m\n",
            "\u001b[0;31mNameError\u001b[0m: name 'ccrs' is not defined"
          ]
        }
      ],
      "execution_count": 8,
      "metadata": {}
    },
    {
      "cell_type": "code",
      "source": [
        "projection = ccrs.PlateCarree()\n",
        "\n",
        "fig = plt.figure(figsize=(16, 16), facecolor=\"none\")\n",
        "ax = plt.axes(projection=projection)\n",
        "ax.set_extent([90, 180, -50, 5])\n",
        "# ax.add_feature(ocean, facecolor=(0.4,0.4,0.6), edgecolor=\"none\", linewidth=5, alpha=0.40, zorder=1)\n",
        "ax.imshow(globaletopobw_img, origin='upper', transform=base_projection, extent=global_extent, zorder=0, cmap=\"gray\")\n",
        "\n",
        "contourf(age_data[:,:,0], age_data[:,:,1], age_data[:,:,2], levels = arange(0,200,10), \n",
        "         transform=base_projection,  cmap=\"RdYlBu\",zorder=2, alpha=0.8)\n",
        "\n",
        "contour(age_data[:,:,0], age_data[:,:,1], age_data[:,:,2], levels = (0.1,0.5), colors=\"white\", transform=base_projection)\n",
        "\n",
        "\n",
        "plt.scatter(ausqlon, ausqlat, c=ausqdep, cmap=mpl.cm.jet_r, norm=norm_eqdep, linewidth=0, \n",
        "            s=(ausqmag-4.0)*25, transform=ccrs.Geodetic(), alpha=0.5, zorder=3)\n",
        "\n",
        "\n",
        "plt.show()"
      ],
      "outputs": [
        {
          "output_type": "error",
          "ename": "NameError",
          "evalue": "name 'ccrs' is not defined",
          "traceback": [
            "\u001b[0;31m\u001b[0m",
            "\u001b[0;31mNameError\u001b[0mTraceback (most recent call last)",
            "\u001b[0;32m<ipython-input-9-e11ba76b02c9>\u001b[0m in \u001b[0;36m<module>\u001b[0;34m()\u001b[0m\n\u001b[0;32m----> 1\u001b[0;31m \u001b[0mprojection\u001b[0m \u001b[0;34m=\u001b[0m \u001b[0mccrs\u001b[0m\u001b[0;34m.\u001b[0m\u001b[0mPlateCarree\u001b[0m\u001b[0;34m(\u001b[0m\u001b[0;34m)\u001b[0m\u001b[0;34m\u001b[0m\u001b[0m\n\u001b[0m\u001b[1;32m      2\u001b[0m \u001b[0;34m\u001b[0m\u001b[0m\n\u001b[1;32m      3\u001b[0m \u001b[0mfig\u001b[0m \u001b[0;34m=\u001b[0m \u001b[0mplt\u001b[0m\u001b[0;34m.\u001b[0m\u001b[0mfigure\u001b[0m\u001b[0;34m(\u001b[0m\u001b[0mfigsize\u001b[0m\u001b[0;34m=\u001b[0m\u001b[0;34m(\u001b[0m\u001b[0;36m16\u001b[0m\u001b[0;34m,\u001b[0m \u001b[0;36m16\u001b[0m\u001b[0;34m)\u001b[0m\u001b[0;34m,\u001b[0m \u001b[0mfacecolor\u001b[0m\u001b[0;34m=\u001b[0m\u001b[0;34m\"none\"\u001b[0m\u001b[0;34m)\u001b[0m\u001b[0;34m\u001b[0m\u001b[0m\n\u001b[1;32m      4\u001b[0m \u001b[0max\u001b[0m \u001b[0;34m=\u001b[0m \u001b[0mplt\u001b[0m\u001b[0;34m.\u001b[0m\u001b[0maxes\u001b[0m\u001b[0;34m(\u001b[0m\u001b[0mprojection\u001b[0m\u001b[0;34m=\u001b[0m\u001b[0mprojection\u001b[0m\u001b[0;34m)\u001b[0m\u001b[0;34m\u001b[0m\u001b[0m\n\u001b[1;32m      5\u001b[0m \u001b[0max\u001b[0m\u001b[0;34m.\u001b[0m\u001b[0mset_extent\u001b[0m\u001b[0;34m(\u001b[0m\u001b[0;34m[\u001b[0m\u001b[0;36m90\u001b[0m\u001b[0;34m,\u001b[0m \u001b[0;36m180\u001b[0m\u001b[0;34m,\u001b[0m \u001b[0;34m-\u001b[0m\u001b[0;36m50\u001b[0m\u001b[0;34m,\u001b[0m \u001b[0;36m5\u001b[0m\u001b[0;34m]\u001b[0m\u001b[0;34m)\u001b[0m\u001b[0;34m\u001b[0m\u001b[0m\n",
            "\u001b[0;31mNameError\u001b[0m: name 'ccrs' is not defined"
          ]
        }
      ],
      "execution_count": 9,
      "metadata": {}
    },
    {
      "cell_type": "markdown",
      "source": [
        "The plotting of lines is actually a bit more interesting since the tranformation machinery needs to work on all the points between the given end points. We have seen lines and fills in the contouring but it is interesting to see what is actually going on (this is one of the standard examples from cartopy)."
      ],
      "metadata": {}
    },
    {
      "cell_type": "code",
      "source": [
        "ax = plt.axes(projection=ccrs.Robinson())\n",
        "\n",
        "# ax = plt.axes(projection=ccrs.LambertCylindrical())\n",
        "\n",
        "    # make the map global rather than have it zoom in to\n",
        "    # the extents of any plotted data\n",
        "    \n",
        "ax.set_global()\n",
        "ax.coastlines() \n",
        "ax.stock_img()\n",
        "\n",
        "plt.plot(-0.08, 51.53, 'o', transform=ccrs.PlateCarree())\n",
        "plt.plot(132 , 43.17,  'o', transform=ccrs.PlateCarree())\n",
        "plt.plot([-0.08, 132], [51.53, 43.17], \n",
        "         transform=ccrs.PlateCarree(), color=\"Green\", linewidth=2)\n",
        "plt.plot([-0.08, 132], [51.53, 43.17], \n",
        "         transform=ccrs.Geodetic(), color=\"Blue\", linewidth=3)\n",
        "\n"
      ],
      "outputs": [
        {
          "output_type": "error",
          "ename": "NameError",
          "evalue": "name 'ccrs' is not defined",
          "traceback": [
            "\u001b[0;31m\u001b[0m",
            "\u001b[0;31mNameError\u001b[0mTraceback (most recent call last)",
            "\u001b[0;32m<ipython-input-10-d33dff3e4386>\u001b[0m in \u001b[0;36m<module>\u001b[0;34m()\u001b[0m\n\u001b[0;32m----> 1\u001b[0;31m \u001b[0max\u001b[0m \u001b[0;34m=\u001b[0m \u001b[0mplt\u001b[0m\u001b[0;34m.\u001b[0m\u001b[0maxes\u001b[0m\u001b[0;34m(\u001b[0m\u001b[0mprojection\u001b[0m\u001b[0;34m=\u001b[0m\u001b[0mccrs\u001b[0m\u001b[0;34m.\u001b[0m\u001b[0mRobinson\u001b[0m\u001b[0;34m(\u001b[0m\u001b[0;34m)\u001b[0m\u001b[0;34m)\u001b[0m\u001b[0;34m\u001b[0m\u001b[0m\n\u001b[0m\u001b[1;32m      2\u001b[0m \u001b[0;34m\u001b[0m\u001b[0m\n\u001b[1;32m      3\u001b[0m \u001b[0;31m# ax = plt.axes(projection=ccrs.LambertCylindrical())\u001b[0m\u001b[0;34m\u001b[0m\u001b[0;34m\u001b[0m\u001b[0m\n\u001b[1;32m      4\u001b[0m \u001b[0;34m\u001b[0m\u001b[0m\n\u001b[1;32m      5\u001b[0m     \u001b[0;31m# make the map global rather than have it zoom in to\u001b[0m\u001b[0;34m\u001b[0m\u001b[0;34m\u001b[0m\u001b[0m\n",
            "\u001b[0;31mNameError\u001b[0m: name 'ccrs' is not defined"
          ]
        }
      ],
      "execution_count": 10,
      "metadata": {}
    },
    {
      "cell_type": "code",
      "source": [
        "# Examples of projections and how to draw/fill a shape \n",
        "\n",
        "# Inside out / outside in is defined by cw/ccw ordering of points in the filled shape\n",
        "\n",
        "rotated_pole = ccrs.RotatedPole(pole_latitude=60, pole_longitude=180)\n",
        "\n",
        "scale = 45\n",
        "x = [-scale, -scale*1.5, -scale, 0.0,   scale, scale*1.5,  scale, 0.0,   -scale]\n",
        "y = [-scale, 0.0,     scale, scale * 1.5, scale, 0.0,   -scale, -scale*1.5, -scale]\n",
        "\n",
        "xx = x[::-1]\n",
        "yy = y[::-1]\n",
        "\n",
        "fig = plt.figure(figsize=(6, 12))\n",
        "\n",
        "ax = plt.subplot(311, projection=rotated_pole)\n",
        "ax.stock_img()\n",
        "ax.coastlines()\n",
        "ax.plot(x, y, marker='o', transform=ccrs.Geodetic())\n",
        "ax.fill(x, y, color='coral', transform=ccrs.Geodetic(), alpha=0.4)\n",
        "ax.gridlines()\n",
        "\n",
        "ax = plt.subplot(312, projection=ccrs.PlateCarree())\n",
        "ax.stock_img()\n",
        "ax.coastlines()\n",
        "ax.plot(x, y, marker='o', transform=ccrs.Geodetic())\n",
        "ax.fill(x, y, transform=ccrs.Geodetic(), color='coral', alpha=0.4, closed=True)\n",
        "ax.gridlines()\n",
        "\n",
        "ax = plt.subplot(313, projection=rotated_pole)\n",
        "ax.stock_img()\n",
        "# ax.coastlines()\n",
        "ax.plot(x, y, marker='o', transform=ccrs.Geodetic())\n",
        "ax.fill(xx, yy,  color='coral', alpha=0.4, transform=ccrs.Geodetic())\n",
        "ax.gridlines()\n",
        "plt.show()\n",
        "\n",
        "\n"
      ],
      "outputs": [
        {
          "output_type": "error",
          "ename": "NameError",
          "evalue": "name 'ccrs' is not defined",
          "traceback": [
            "\u001b[0;31m\u001b[0m",
            "\u001b[0;31mNameError\u001b[0mTraceback (most recent call last)",
            "\u001b[0;32m<ipython-input-11-d8a9df10a373>\u001b[0m in \u001b[0;36m<module>\u001b[0;34m()\u001b[0m\n\u001b[1;32m      3\u001b[0m \u001b[0;31m# Inside out / outside in is defined by cw/ccw ordering of points in the filled shape\u001b[0m\u001b[0;34m\u001b[0m\u001b[0;34m\u001b[0m\u001b[0m\n\u001b[1;32m      4\u001b[0m \u001b[0;34m\u001b[0m\u001b[0m\n\u001b[0;32m----> 5\u001b[0;31m \u001b[0mrotated_pole\u001b[0m \u001b[0;34m=\u001b[0m \u001b[0mccrs\u001b[0m\u001b[0;34m.\u001b[0m\u001b[0mRotatedPole\u001b[0m\u001b[0;34m(\u001b[0m\u001b[0mpole_latitude\u001b[0m\u001b[0;34m=\u001b[0m\u001b[0;36m60\u001b[0m\u001b[0;34m,\u001b[0m \u001b[0mpole_longitude\u001b[0m\u001b[0;34m=\u001b[0m\u001b[0;36m180\u001b[0m\u001b[0;34m)\u001b[0m\u001b[0;34m\u001b[0m\u001b[0m\n\u001b[0m\u001b[1;32m      6\u001b[0m \u001b[0;34m\u001b[0m\u001b[0m\n\u001b[1;32m      7\u001b[0m \u001b[0mscale\u001b[0m \u001b[0;34m=\u001b[0m \u001b[0;36m45\u001b[0m\u001b[0;34m\u001b[0m\u001b[0m\n",
            "\u001b[0;31mNameError\u001b[0m: name 'ccrs' is not defined"
          ]
        }
      ],
      "execution_count": 11,
      "metadata": {}
    },
    {
      "cell_type": "code",
      "source": [],
      "outputs": [],
      "execution_count": 12,
      "metadata": {}
    },
    {
      "cell_type": "code",
      "source": [],
      "outputs": [],
      "execution_count": 12,
      "metadata": {}
    }
  ],
  "metadata": {
    "kernelspec": {
      "name": "python2",
      "language": "python",
      "display_name": "Python 2"
    },
    "language_info": {
      "mimetype": "text/x-python",
      "nbconvert_exporter": "python",
      "name": "python",
      "pygments_lexer": "ipython2",
      "version": "2.7.16",
      "file_extension": ".py",
      "codemirror_mode": {
        "version": 2,
        "name": "ipython"
      }
    },
    "kernel_info": {
      "name": "python2"
    },
    "nteract": {
      "version": "0.15.0"
    }
  },
  "nbformat": 4,
  "nbformat_minor": 2
}
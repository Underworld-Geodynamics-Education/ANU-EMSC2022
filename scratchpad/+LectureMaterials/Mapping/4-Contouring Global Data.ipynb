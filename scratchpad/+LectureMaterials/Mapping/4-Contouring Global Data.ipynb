{
 "cells": [
  {
   "cell_type": "markdown",
   "metadata": {},
   "source": [
    "## How to use contours to view global data\n",
    "\n",
    "We will look at a couple of datasets and see how best to view them with contours instead of rendering everything as a global image. We have global strain rate and global sea-floor age. Both datasets have holes in them !"
   ]
  },
  {
   "cell_type": "code",
   "execution_count": 2,
   "metadata": {},
   "outputs": [
    {
     "name": "stdout",
     "output_type": "stream",
     "text": [
      "Populating the interactive namespace from numpy and matplotlib\n"
     ]
    }
   ],
   "source": [
    "%pylab inline\n",
    "\n",
    "# import gdal\n",
    "import pyproj\n",
    "import cartopy"
   ]
  },
  {
   "cell_type": "code",
   "execution_count": 3,
   "metadata": {},
   "outputs": [],
   "source": [
    "import cartopy.crs as ccrs\n",
    "import matplotlib.pyplot as plt"
   ]
  },
  {
   "cell_type": "code",
   "execution_count": null,
   "metadata": {},
   "outputs": [],
   "source": [
    "global_extent     = [-180.0, 180.0, -90.0, 90.0]\n",
    "globalmarble      = gdal.Open(\"../../Data/Resources/BlueMarbleNG-TB_2004-06-01_rgb_3600x1800.TIFF\")\n",
    "globalmarble_img  = globalmarble.ReadAsArray().transpose(1,2,0)\n",
    "globaletopo       = gdal.Open(\"../../Data/Resources/color_etopo1_ice_low.tif\")\n",
    "globaletopo_img   = globaletopo.ReadAsArray().transpose(1,2,0)\n",
    "\n",
    "del(globalmarble)\n",
    "del(globaletopo)"
   ]
  },
  {
   "cell_type": "code",
   "execution_count": 4,
   "metadata": {},
   "outputs": [
    {
     "ename": "OSError",
     "evalue": "../../Data/Resources/sec_invariant_strain_0.2.dat not found.",
     "output_type": "error",
     "traceback": [
      "\u001b[0;31m---------------------------------------------------------------------------\u001b[0m",
      "\u001b[0;31mOSError\u001b[0m                                   Traceback (most recent call last)",
      "\u001b[0;32m<ipython-input-4-5ae0c94f261f>\u001b[0m in \u001b[0;36m<module>\u001b[0;34m\u001b[0m\n\u001b[1;32m      2\u001b[0m \u001b[0;34m\u001b[0m\u001b[0m\n\u001b[1;32m      3\u001b[0m \u001b[0mstrainrate_extent\u001b[0m\u001b[0;34m=\u001b[0m\u001b[0;34m[\u001b[0m\u001b[0;34m-\u001b[0m\u001b[0;36m180\u001b[0m\u001b[0;34m,\u001b[0m\u001b[0;36m180\u001b[0m\u001b[0;34m,\u001b[0m\u001b[0;34m-\u001b[0m\u001b[0;36m68\u001b[0m\u001b[0;34m,\u001b[0m\u001b[0;36m80\u001b[0m\u001b[0;34m]\u001b[0m\u001b[0;34m\u001b[0m\u001b[0;34m\u001b[0m\u001b[0m\n\u001b[0;32m----> 4\u001b[0;31m \u001b[0mstrainrate\u001b[0m \u001b[0;34m=\u001b[0m \u001b[0mnumpy\u001b[0m\u001b[0;34m.\u001b[0m\u001b[0mloadtxt\u001b[0m\u001b[0;34m(\u001b[0m\u001b[0;34m\"../../Data/Resources/sec_invariant_strain_0.2.dat\"\u001b[0m\u001b[0;34m)\u001b[0m\u001b[0;34m\u001b[0m\u001b[0;34m\u001b[0m\u001b[0m\n\u001b[0m\u001b[1;32m      5\u001b[0m \u001b[0mstrainrate_data\u001b[0m \u001b[0;34m=\u001b[0m \u001b[0mstrainrate\u001b[0m\u001b[0;34m.\u001b[0m\u001b[0mreshape\u001b[0m\u001b[0;34m(\u001b[0m\u001b[0;36m741\u001b[0m\u001b[0;34m,\u001b[0m\u001b[0;36m1800\u001b[0m\u001b[0;34m,\u001b[0m\u001b[0;36m3\u001b[0m\u001b[0;34m)\u001b[0m  \u001b[0;31m# I had to look at the data to work this out !\u001b[0m\u001b[0;34m\u001b[0m\u001b[0;34m\u001b[0m\u001b[0m\n\u001b[1;32m      6\u001b[0m \u001b[0;31m# strainrate_img  = strainrate_data[:,:,2]\u001b[0m\u001b[0;34m\u001b[0m\u001b[0;34m\u001b[0m\u001b[0;34m\u001b[0m\u001b[0m\n",
      "\u001b[0;32m/usr/local/lib/python3.7/site-packages/numpy/lib/npyio.py\u001b[0m in \u001b[0;36mloadtxt\u001b[0;34m(fname, dtype, comments, delimiter, converters, skiprows, usecols, unpack, ndmin, encoding, max_rows)\u001b[0m\n\u001b[1;32m    953\u001b[0m             \u001b[0mfname\u001b[0m \u001b[0;34m=\u001b[0m \u001b[0mos_fspath\u001b[0m\u001b[0;34m(\u001b[0m\u001b[0mfname\u001b[0m\u001b[0;34m)\u001b[0m\u001b[0;34m\u001b[0m\u001b[0;34m\u001b[0m\u001b[0m\n\u001b[1;32m    954\u001b[0m         \u001b[0;32mif\u001b[0m \u001b[0m_is_string_like\u001b[0m\u001b[0;34m(\u001b[0m\u001b[0mfname\u001b[0m\u001b[0;34m)\u001b[0m\u001b[0;34m:\u001b[0m\u001b[0;34m\u001b[0m\u001b[0;34m\u001b[0m\u001b[0m\n\u001b[0;32m--> 955\u001b[0;31m             \u001b[0mfh\u001b[0m \u001b[0;34m=\u001b[0m \u001b[0mnp\u001b[0m\u001b[0;34m.\u001b[0m\u001b[0mlib\u001b[0m\u001b[0;34m.\u001b[0m\u001b[0m_datasource\u001b[0m\u001b[0;34m.\u001b[0m\u001b[0mopen\u001b[0m\u001b[0;34m(\u001b[0m\u001b[0mfname\u001b[0m\u001b[0;34m,\u001b[0m \u001b[0;34m'rt'\u001b[0m\u001b[0;34m,\u001b[0m \u001b[0mencoding\u001b[0m\u001b[0;34m=\u001b[0m\u001b[0mencoding\u001b[0m\u001b[0;34m)\u001b[0m\u001b[0;34m\u001b[0m\u001b[0;34m\u001b[0m\u001b[0m\n\u001b[0m\u001b[1;32m    956\u001b[0m             \u001b[0mfencoding\u001b[0m \u001b[0;34m=\u001b[0m \u001b[0mgetattr\u001b[0m\u001b[0;34m(\u001b[0m\u001b[0mfh\u001b[0m\u001b[0;34m,\u001b[0m \u001b[0;34m'encoding'\u001b[0m\u001b[0;34m,\u001b[0m \u001b[0;34m'latin1'\u001b[0m\u001b[0;34m)\u001b[0m\u001b[0;34m\u001b[0m\u001b[0;34m\u001b[0m\u001b[0m\n\u001b[1;32m    957\u001b[0m             \u001b[0mfh\u001b[0m \u001b[0;34m=\u001b[0m \u001b[0miter\u001b[0m\u001b[0;34m(\u001b[0m\u001b[0mfh\u001b[0m\u001b[0;34m)\u001b[0m\u001b[0;34m\u001b[0m\u001b[0;34m\u001b[0m\u001b[0m\n",
      "\u001b[0;32m/usr/local/lib/python3.7/site-packages/numpy/lib/_datasource.py\u001b[0m in \u001b[0;36mopen\u001b[0;34m(path, mode, destpath, encoding, newline)\u001b[0m\n\u001b[1;32m    264\u001b[0m \u001b[0;34m\u001b[0m\u001b[0m\n\u001b[1;32m    265\u001b[0m     \u001b[0mds\u001b[0m \u001b[0;34m=\u001b[0m \u001b[0mDataSource\u001b[0m\u001b[0;34m(\u001b[0m\u001b[0mdestpath\u001b[0m\u001b[0;34m)\u001b[0m\u001b[0;34m\u001b[0m\u001b[0;34m\u001b[0m\u001b[0m\n\u001b[0;32m--> 266\u001b[0;31m     \u001b[0;32mreturn\u001b[0m \u001b[0mds\u001b[0m\u001b[0;34m.\u001b[0m\u001b[0mopen\u001b[0m\u001b[0;34m(\u001b[0m\u001b[0mpath\u001b[0m\u001b[0;34m,\u001b[0m \u001b[0mmode\u001b[0m\u001b[0;34m,\u001b[0m \u001b[0mencoding\u001b[0m\u001b[0;34m=\u001b[0m\u001b[0mencoding\u001b[0m\u001b[0;34m,\u001b[0m \u001b[0mnewline\u001b[0m\u001b[0;34m=\u001b[0m\u001b[0mnewline\u001b[0m\u001b[0;34m)\u001b[0m\u001b[0;34m\u001b[0m\u001b[0;34m\u001b[0m\u001b[0m\n\u001b[0m\u001b[1;32m    267\u001b[0m \u001b[0;34m\u001b[0m\u001b[0m\n\u001b[1;32m    268\u001b[0m \u001b[0;34m\u001b[0m\u001b[0m\n",
      "\u001b[0;32m/usr/local/lib/python3.7/site-packages/numpy/lib/_datasource.py\u001b[0m in \u001b[0;36mopen\u001b[0;34m(self, path, mode, encoding, newline)\u001b[0m\n\u001b[1;32m    622\u001b[0m                                       encoding=encoding, newline=newline)\n\u001b[1;32m    623\u001b[0m         \u001b[0;32melse\u001b[0m\u001b[0;34m:\u001b[0m\u001b[0;34m\u001b[0m\u001b[0;34m\u001b[0m\u001b[0m\n\u001b[0;32m--> 624\u001b[0;31m             \u001b[0;32mraise\u001b[0m \u001b[0mIOError\u001b[0m\u001b[0;34m(\u001b[0m\u001b[0;34m\"%s not found.\"\u001b[0m \u001b[0;34m%\u001b[0m \u001b[0mpath\u001b[0m\u001b[0;34m)\u001b[0m\u001b[0;34m\u001b[0m\u001b[0;34m\u001b[0m\u001b[0m\n\u001b[0m\u001b[1;32m    625\u001b[0m \u001b[0;34m\u001b[0m\u001b[0m\n\u001b[1;32m    626\u001b[0m \u001b[0;34m\u001b[0m\u001b[0m\n",
      "\u001b[0;31mOSError\u001b[0m: ../../Data/Resources/sec_invariant_strain_0.2.dat not found."
     ]
    }
   ],
   "source": [
    "# Global strain rate data - from Unavco\n",
    "\n",
    "strainrate_extent=[-180,180,-68,80]\n",
    "strainrate = numpy.loadtxt(\"../../Data/Resources/sec_invariant_strain_0.2.dat\")\n",
    "strainrate_data = strainrate.reshape(741,1800,3)  # I had to look at the data to work this out !\n",
    "# strainrate_img  = strainrate_data[:,:,2]\n"
   ]
  },
  {
   "cell_type": "code",
   "execution_count": null,
   "metadata": {},
   "outputs": [],
   "source": [
    "fig = plt.figure(figsize=(12, 12), facecolor=\"none\")\n",
    "\n",
    "fig."
   ]
  },
  {
   "cell_type": "code",
   "execution_count": null,
   "metadata": {},
   "outputs": [],
   "source": [
    "projection1 = ccrs.Orthographic(central_longitude=140.0, central_latitude=0.0, globe=None)\n",
    "projection2 = ccrs.Mollweide()\n",
    "\n",
    "base_projection = ccrs.PlateCarree()\n",
    "\n",
    "fig = plt.figure(figsize=(12, 12), facecolor=\"none\")\n",
    "ax = plt.subplot(111, projection=projection2)\n",
    "ax.set_global()\n",
    "\n",
    "ax.imshow(globaletopo_img, origin='upper', transform=base_projection, extent=global_extent, zorder=0)\n",
    "ax.imshow(globalmarble_img, origin='upper', transform=base_projection, extent=global_extent, alpha=0.5, zorder=1)\n",
    "\n",
    "ax.contourf(strainrate_data[:,:,0], strainrate_data[:,:,1], strainrate_data[:,:,2], \n",
    "         levels=[20,30,40,50,60,70,80,90,100,300,500,1000], linewidth=0.0,\n",
    "         transform=base_projection,  cmap=\"YlOrRd\", zorder=2, alpha=0.8, extent=strainrate_extent)\n",
    "\n",
    "\n",
    "plt.show()"
   ]
  },
  {
   "cell_type": "code",
   "execution_count": null,
   "metadata": {},
   "outputs": [],
   "source": [
    "# Seafloor age data and global image - data from Earthbyters\n",
    "\n",
    "# The data come as ascii lon / lat / age tuples with NaN for no data. \n",
    "# This can be loaded with ...\n",
    "\n",
    "# age = numpy.loadtxt(\"Resources/global_age_data.3.6.xyz\")\n",
    "# age_data = age.reshape(1801,3601,3)  # I looked at the data and figured out what numbers to use\n",
    "# age_img  = age_data[:,:,2]\n",
    "\n",
    "# But this is super slow, so I have just stored the Age data on the grid (1801 x 3601) which we can reconstruct easily\n",
    "\n",
    "datasize = (1801, 3601, 3)\n",
    "age_data = np.empty(datasize)\n",
    "\n",
    "ages = np.load(\"../../Data/Resources/global_age_data.3.6.z.npz\")[\"ageData\"]\n",
    "\n",
    "lats = np.linspace(90, -90, datasize[0])\n",
    "lons = np.linspace(-180.0,180.0, datasize[1])\n",
    "\n",
    "arrlons,arrlats = np.meshgrid(lons, lats)\n",
    "\n",
    "age_data[...,0] = arrlons[...]\n",
    "age_data[...,1] = arrlats[...]\n",
    "age_data[...,2] = ages[...]\n"
   ]
  },
  {
   "cell_type": "code",
   "execution_count": null,
   "metadata": {},
   "outputs": [],
   "source": [
    "import cartopy.feature as cfeature\n",
    "\n",
    "projection = ccrs.PlateCarree()\n",
    "\n",
    "coastline = cfeature.NaturalEarthFeature('physical', 'coastline', '50m',\n",
    "                           edgecolor=(0.0,0.0,0.0),\n",
    "                           facecolor=\"none\")\n",
    "\n",
    "globaletopo_img2 = globaletopo_img.copy()\n",
    "globaletopo_img2[...] = 255 * (globaletopo_img[...] / 255.0) ** 2.0\n",
    "\n",
    "fig = plt.figure(figsize=(10, 10), facecolor=\"none\", edgecolor=\"none\")\n",
    "ax = plt.axes(projection=projection)\n",
    "ax.imshow(globaletopo_img2, origin='upper', transform=base_projection, extent=global_extent, zorder=0, alpha=0.5)\n",
    "ax.add_feature(coastline, linewidth=0.33, edgecolor=\"Black\", zorder=1)\n",
    "\n",
    "cf = contourf(age_data[:,:,0], age_data[:,:,1], age_data[:,:,2], \n",
    "         levels = arange(0.5,250,10), vmin=0, vmax=150,\n",
    "         transform=base_projection,  cmap=\"RdYlBu\",zorder=2, alpha=0.75)\n",
    "\n",
    "contour(age_data[:,:,0], age_data[:,:,1], age_data[:,:,2], levels = (0.1,0.5), colors=\"white\", transform=base_projection)\n",
    "\n",
    "\n",
    "# Want to keep the image ? Do something like this:\n",
    "# plt.savefig(\"GlobalAgeMap.png\", dpi=300, frameon=False, edgecolor=\"none\", facecolor=\"none\", bbox_inches='tight', pad_inches=0.0)\n",
    "plt.show()"
   ]
  },
  {
   "cell_type": "code",
   "execution_count": null,
   "metadata": {},
   "outputs": [],
   "source": [
    "projection = ccrs.Robinson(central_longitude=145)\n",
    "\n",
    "coastline = cfeature.NaturalEarthFeature('physical', 'coastline', '50m',\n",
    "                           edgecolor=(0.2,0.2,0.2),\n",
    "                           facecolor=\"none\")\n",
    "\n",
    "\n",
    "fig = plt.figure(figsize=(10, 10), facecolor=\"none\", edgecolor=\"none\")\n",
    "ax = plt.axes(projection=projection)\n",
    "\n",
    "ax.imshow(globaletopo_img2, origin='upper', transform=base_projection, extent=global_extent, zorder=0, alpha=0.5)\n",
    "\n",
    "\n",
    "cf = contourf(age_data[:,:,0], age_data[:,:,1], age_data[:,:,2], \n",
    "         levels = arange(0.5,250,10), vmin=0, vmax=150,\n",
    "         transform=base_projection,  cmap=\"bone_r\",zorder=2, alpha=0.75)\n",
    "\n",
    "\n",
    "contour(age_data[:,:,0], age_data[:,:,1], age_data[:,:,2], levels = (0.1,0.5), colors=\"white\", transform=base_projection)\n",
    "\n",
    "ax.contourf(strainrate_data[:,:,0], strainrate_data[:,:,1], strainrate_data[:,:,2], \n",
    "         levels=[20,30,40,50,60,70,80,90,100,300,500,1000], linewidth=0.0,\n",
    "         transform=base_projection,  cmap=\"YlOrRd\", zorder=2, alpha=0.8, extent=strainrate_extent)\n",
    "\n",
    "ax.add_feature(coastline, linewidth=0.33, zorder=3)\n",
    "\n",
    "plt.savefig(\"GlobalAgeAndStrainRate.png\", dpi=300, frameon=False, edgecolor=\"none\", facecolor=\"none\", bbox_inches='tight', pad_inches=0.0)\n",
    "\n",
    "\n"
   ]
  },
  {
   "cell_type": "code",
   "execution_count": null,
   "metadata": {},
   "outputs": [],
   "source": [
    "# This is how I saved the Earthbyte file from the original xyz format\n",
    "# np.savez_compressed(\"Resources/global_age_data.3.6.z.npz\",ageData=age_data[...,2])"
   ]
  },
  {
   "cell_type": "code",
   "execution_count": null,
   "metadata": {},
   "outputs": [],
   "source": []
  }
 ],
 "metadata": {
  "kernelspec": {
   "display_name": "Python 2",
   "language": "python",
   "name": "python2"
  },
  "language_info": {
   "codemirror_mode": {
    "name": "ipython",
    "version": 3
   },
   "file_extension": ".py",
   "mimetype": "text/x-python",
   "name": "python",
   "nbconvert_exporter": "python",
   "pygments_lexer": "ipython3",
   "version": "3.7.3"
  }
 },
 "nbformat": 4,
 "nbformat_minor": 2
}

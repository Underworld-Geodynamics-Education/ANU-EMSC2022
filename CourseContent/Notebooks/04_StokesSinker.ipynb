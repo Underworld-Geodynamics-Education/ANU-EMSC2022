{
 "cells": [
  {
   "cell_type": "markdown",
   "metadata": {},
   "source": [
    "Thermal Stokes Sinker\n",
    "======\n",
    "\n",
    "Demonstration example for setting up particle swarms with different material properties. This system consists of a dense, high viscosity sphere falling through a background lower density and viscosity fluid. \n",
    "\n",
    "**This lesson introduces the concepts of:**\n",
    "1. Creating particle swarms.\n",
    "2. Associating different behaviours with different particles.\n",
    "3. Using the ``branching.conditional`` function.\n",
    "4. Advecting particle swarms in a Stokes system.\n",
    "5. Calibrating the stokes pressure solution using a solver callback routine. `callback_post_solve`\n",
    "\n",
    "**Keywords:** particle swarms, Stokes system, advective diffusive systems, pressure calibration \n",
    "\n",
    "\n",
    "![title](./images/05_matvel.png)"
   ]
  },
  {
   "cell_type": "code",
   "execution_count": 1,
   "metadata": {},
   "outputs": [],
   "source": [
    "import underworld as uw\n",
    "from underworld import function as fn\n",
    "import glucifer\n",
    "import numpy as np\n",
    "import math\n",
    "import pathlib"
   ]
  },
  {
   "cell_type": "markdown",
   "metadata": {},
   "source": [
    "Setup parameters\n",
    "-----\n",
    "\n",
    "Set simulation parameters for the test and position of the spherical sinker."
   ]
  },
  {
   "cell_type": "code",
   "execution_count": 2,
   "metadata": {},
   "outputs": [],
   "source": [
    "# Set the resolution.\n",
    "res = 64\n",
    "\n",
    "#\n",
    "expt_name = \"RefCase-sinker-Dx0.5\"\n",
    "pathlib.Path(expt_name).mkdir(parents=True, exist_ok=True)\n",
    "\n",
    "# Set size and position of dense sphere.\n",
    "sphereRadius = 0.075*0.5\n",
    "sphereCentre = (0.25, 0.375)"
   ]
  },
  {
   "cell_type": "markdown",
   "metadata": {},
   "source": [
    "Create mesh and finite element variables\n",
    "------"
   ]
  },
  {
   "cell_type": "code",
   "execution_count": 3,
   "metadata": {},
   "outputs": [],
   "source": [
    "mesh = uw.mesh.FeMesh_Cartesian( elementType = (\"Q1/dQ0\"), \n",
    "                                 elementRes  = (res, res), \n",
    "                                 minCoord    = (0.0, 0.0), \n",
    "                                 maxCoord    = (0.5, 0.5))\n",
    "\n",
    "velocityField       = mesh.add_variable(nodeDofCount=2 )\n",
    "pressureField       = mesh.subMesh.add_variable(nodeDofCount=1 )\n",
    "\n",
    "temperatureField    = mesh.add_variable( nodeDofCount=1 )\n",
    "temperatureDotField = mesh.add_variable(nodeDofCount=1 ) # required for (SUPG)\n"
   ]
  },
  {
   "cell_type": "markdown",
   "metadata": {},
   "source": [
    "Set initial conditions and boundary conditions\n",
    "----------\n",
    "\n",
    "Initialise the velocity and pressure fields to zero.\n",
    "Construct sets for the both horizontal and vertical walls to define conditons for underworld solvers."
   ]
  },
  {
   "cell_type": "code",
   "execution_count": 4,
   "metadata": {},
   "outputs": [],
   "source": [
    "velocityField.data[:] = [0.0,0.0]\n",
    "pressureField.data[:] = 0.0\n",
    "temperatureField.data[:] = 0.5\n",
    "temperatureDotField.data[:] = 0.0"
   ]
  },
  {
   "cell_type": "code",
   "execution_count": 5,
   "metadata": {},
   "outputs": [],
   "source": [
    "coords = mesh.data\n",
    "\n",
    "in_sphere = np.hypot((coords - sphereCentre)[:,0], (coords - sphereCentre)[:,1]) < sphereRadius\n",
    "\n",
    "temperatureField.data[in_sphere] = 0.0"
   ]
  },
  {
   "cell_type": "code",
   "execution_count": null,
   "metadata": {},
   "outputs": [],
   "source": []
  },
  {
   "cell_type": "code",
   "execution_count": 6,
   "metadata": {},
   "outputs": [],
   "source": [
    "iWalls = mesh.specialSets[\"MinI_VertexSet\"] + mesh.specialSets[\"MaxI_VertexSet\"]\n",
    "jWalls = mesh.specialSets[\"MinJ_VertexSet\"] + mesh.specialSets[\"MaxJ_VertexSet\"]\n",
    "\n",
    "freeslipBC = uw.conditions.DirichletCondition( variable      = velocityField, \n",
    "                                               indexSetsPerDof = (iWalls, jWalls) )"
   ]
  },
  {
   "cell_type": "code",
   "execution_count": 7,
   "metadata": {},
   "outputs": [],
   "source": [
    "temperatureField.data[mesh.specialSets[\"MaxJ_VertexSet\"]] = 0.0 # top\n",
    "temperatureField.data[mesh.specialSets[\"MinJ_VertexSet\"]] = 1.0 # bottom\n",
    "\n",
    "# Temperature is held constant on the jWalls\n",
    "tempBC = uw.conditions.DirichletCondition( variable        = temperatureField, \n",
    "                                           indexSetsPerDof = (jWalls,) )"
   ]
  },
  {
   "cell_type": "markdown",
   "metadata": {},
   "source": [
    "Create a particle swarm\n",
    "------\n",
    "\n",
    "Swarms refer to (large) groups of particles which can advect with the fluid flow. These can be used to determine 'materials' as they can carry local information such as the fluid density and viscosity."
   ]
  },
  {
   "cell_type": "markdown",
   "metadata": {},
   "source": [
    "**Setup a swarm**\n",
    "\n",
    "To set up a swarm of particles the following steps are needed:\n",
    "1. Initialise and name a swarm, here called ``swarm``.\n",
    "2. Define data variable (``materialIndex``) to store an index that will state what material a given particle is.\n",
    "3. Populate the swarm over the whole domain using the layout command, here this is used to allocate 20 particles in each element."
   ]
  },
  {
   "cell_type": "code",
   "execution_count": 8,
   "metadata": {},
   "outputs": [],
   "source": [
    "# Create the swarm and an advector associated with it\n",
    "swarm  = uw.swarm.Swarm( mesh=mesh )\n",
    "swarm0 = uw.swarm.Swarm( mesh=mesh )\n",
    "\n",
    "advector = uw.systems.SwarmAdvector( swarm=swarm, velocityField=velocityField, order=2 )\n",
    "\n",
    "# Go ahead and populate the swarm.\n",
    "\n",
    "theta = np.linspace(0.0,2.0*np.pi, 360)\n",
    "coords = np.zeros((theta.shape[0], 2))\n",
    "\n",
    "coords[:,0] = sphereCentre[0] + sphereRadius * np.cos(theta)\n",
    "coords[:,1] = sphereCentre[1] + sphereRadius * np.sin(theta)\n",
    "    \n",
    "valid = swarm.add_particles_with_coordinates(coords)\n",
    "valid = swarm0.add_particles_with_coordinates(coords)\n",
    "\n"
   ]
  },
  {
   "cell_type": "markdown",
   "metadata": {},
   "source": [
    "**Plot the particles by material**\n",
    "\n",
    "Plot the initial positions of all swarm particles coloured by their material indices."
   ]
  },
  {
   "cell_type": "code",
   "execution_count": 9,
   "metadata": {
    "scrolled": true
   },
   "outputs": [
    {
     "data": {
      "text/html": [
       "<img src='data:image/png;base64,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'>"
      ],
      "text/plain": [
       "<IPython.core.display.HTML object>"
      ]
     },
     "metadata": {},
     "output_type": "display_data"
    }
   ],
   "source": [
    "fig1 = glucifer.Figure( figsize=(512,512) )\n",
    "fig1.Points(swarm,  colourBar=False, pointSize=2.0)\n",
    "fig1.Points(swarm0, colourBar=False, pointSize=2.0, colour=\"Red\")\n",
    "fig1.VectorArrows(mesh, velocityField)\n",
    "fig1.append( glucifer.objects.Surface(mesh, temperatureField, colours=\"blue white red\", colourBar=False)  )\n",
    "fig1.append( glucifer.objects.Mesh(mesh, opacity=0.1))\n",
    "fig1.show()"
   ]
  },
  {
   "cell_type": "markdown",
   "metadata": {},
   "source": [
    "Set up material parameters and functions\n",
    "-----\n",
    "\n",
    "Here the functions for density and viscosity are set using the ``map`` function. This function evaluates a key function (here the material index), and the result (i.e. the key) is used to determine which function to evaluate to obtain the actual result (such as the particle density). \n",
    "\n",
    "For example if the material index of a particle is the light index number then the viscosity for that particle will be set to 1. If it had the heavy index number then it will be set to ``visc_sphere``, which can be either a function (say depending on temperature) or a constant as it is below.\n",
    "\n",
    "The same approach is taken when setting up the density function for each particle in the swarm."
   ]
  },
  {
   "cell_type": "code",
   "execution_count": 10,
   "metadata": {},
   "outputs": [],
   "source": [
    "# Set constants for the viscosity and density of the sinker.\n",
    "\n",
    "visc0 = 1.0\n",
    "viscCoeff = 0.0\n",
    "densitySphere = 10.0\n",
    "\n",
    "viscFn = visc0 * fn.math.exp(-temperatureField*viscCoeff)\n",
    "\n",
    "# And the final buoyancy force function.\n",
    "z_hat = ( 0.0, 1.0 )\n",
    "gravity = 1.0\n",
    "density0 = 1.0\n",
    "buoyancyFn = -density0 * gravity * (1.0-temperatureField) * z_hat"
   ]
  },
  {
   "cell_type": "markdown",
   "metadata": {},
   "source": [
    "System setup\n",
    "-----\n",
    "\n",
    "**Setup a Stokes system**"
   ]
  },
  {
   "cell_type": "code",
   "execution_count": 11,
   "metadata": {},
   "outputs": [],
   "source": [
    "stokes = uw.systems.Stokes(    velocityField = velocityField, \n",
    "                               pressureField = pressureField,\n",
    "                               conditions    = freeslipBC,\n",
    "                               fn_viscosity  = viscFn, \n",
    "                               fn_bodyforce  = buoyancyFn )\n",
    "\n",
    "solver = uw.systems.Solver( stokes )"
   ]
  },
  {
   "cell_type": "code",
   "execution_count": 12,
   "metadata": {},
   "outputs": [],
   "source": [
    "advDiff = uw.systems.AdvectionDiffusion( phiField       = temperatureField, \n",
    "                                         phiDotField    = temperatureDotField, \n",
    "                                         velocityField  = velocityField, \n",
    "                                         fn_diffusivity = 1.0e-5, \n",
    "                                         _allow_non_q1  = True,\n",
    "                                         conditions     = tempBC )"
   ]
  },
  {
   "cell_type": "code",
   "execution_count": 13,
   "metadata": {},
   "outputs": [],
   "source": [
    "top = mesh.specialSets[\"MaxJ_VertexSet\"]\n",
    "surfaceArea = uw.utils.Integral(fn=1.0,mesh=mesh, integrationType='surface', surfaceIndexSet=top)\n",
    "surfacePressureIntegral = uw.utils.Integral(fn=pressureField, mesh=mesh, integrationType='surface', surfaceIndexSet=top)\n",
    "\n",
    "# a callback function to calibrate the pressure - will pass to solver later\n",
    "def pressure_calibrate():\n",
    "    (area,) = surfaceArea.evaluate()\n",
    "    (p0,) = surfacePressureIntegral.evaluate()\n",
    "    offset = p0/area\n",
    "    # print(\"Zeroing pressure using mean upper surface pressure {}\".format( offset ))\n",
    "    pressureField.data[:] -= offset"
   ]
  },
  {
   "cell_type": "markdown",
   "metadata": {},
   "source": [
    "Analysis tools\n",
    "-----\n",
    "\n",
    "**RMS velocity**\n",
    "\n",
    "Set up integrals used to calculate the RMS velocity."
   ]
  },
  {
   "cell_type": "code",
   "execution_count": 14,
   "metadata": {},
   "outputs": [],
   "source": [
    "vdotv = fn.math.dot( velocityField, velocityField )"
   ]
  },
  {
   "cell_type": "markdown",
   "metadata": {},
   "source": [
    "Main simulation loop\n",
    "-----\n",
    "\n",
    "The main time stepping loop begins here. Before this the time and timestep are initialised to zero and the output statistics arrays are set up. Also the frequency of outputting basic statistics to the screen is set in steps_output.\n",
    "\n",
    "Note that there are two ``advector.integrate`` steps, one for each swarm, that need to be done each time step."
   ]
  },
  {
   "cell_type": "code",
   "execution_count": 15,
   "metadata": {},
   "outputs": [],
   "source": [
    "# define an update function\n",
    "def update():\n",
    "    # Retrieve the maximum possible timestep for the advection system.\n",
    "    dt = min(advector.get_max_dt(),advDiff.get_max_dt(), 2.5)\n",
    "    # Advect using this timestep size.\n",
    "    advector.integrate(dt)\n",
    "    advDiff.integrate(dt)\n",
    "\n",
    "    return time+dt, step+1"
   ]
  },
  {
   "cell_type": "code",
   "execution_count": 16,
   "metadata": {},
   "outputs": [
    {
     "name": "stdout",
     "output_type": "stream",
     "text": [
      "step =      0; time = 0.000e+00; v_rms = 7.008e-05\n",
      "step =      1; time = 2.500e+00; v_rms = 6.982e-05\n",
      "step =      2; time = 5.000e+00; v_rms = 6.930e-05\n",
      "Viz step 2\n",
      "step =      3; time = 7.500e+00; v_rms = 6.880e-05\n",
      "step =      4; time = 1.000e+01; v_rms = 6.832e-05\n",
      "Viz step 4\n",
      "step =      5; time = 1.250e+01; v_rms = 6.786e-05\n",
      "step =      6; time = 1.500e+01; v_rms = 6.742e-05\n",
      "Viz step 6\n",
      "step =      7; time = 1.750e+01; v_rms = 6.699e-05\n",
      "step =      8; time = 2.000e+01; v_rms = 6.658e-05\n",
      "Viz step 8\n",
      "step =      9; time = 2.250e+01; v_rms = 6.619e-05\n",
      "step =     10; time = 2.500e+01; v_rms = 6.581e-05\n",
      "Viz step 10\n",
      "step =     11; time = 2.750e+01; v_rms = 6.544e-05\n",
      "step =     12; time = 3.000e+01; v_rms = 6.509e-05\n",
      "Viz step 12\n",
      "step =     13; time = 3.250e+01; v_rms = 6.475e-05\n",
      "step =     14; time = 3.500e+01; v_rms = 6.441e-05\n",
      "Viz step 14\n",
      "step =     15; time = 3.750e+01; v_rms = 6.410e-05\n",
      "step =     16; time = 4.000e+01; v_rms = 6.379e-05\n",
      "Viz step 16\n",
      "step =     17; time = 4.250e+01; v_rms = 6.349e-05\n",
      "step =     18; time = 4.500e+01; v_rms = 6.320e-05\n",
      "Viz step 18\n",
      "step =     19; time = 4.750e+01; v_rms = 6.293e-05\n",
      "step =     20; time = 5.000e+01; v_rms = 6.266e-05\n",
      "Viz step 20\n",
      "step =     21; time = 5.250e+01; v_rms = 6.240e-05\n",
      "step =     22; time = 5.500e+01; v_rms = 6.215e-05\n",
      "Viz step 22\n",
      "step =     23; time = 5.750e+01; v_rms = 6.191e-05\n",
      "step =     24; time = 6.000e+01; v_rms = 6.168e-05\n",
      "Viz step 24\n",
      "step =     25; time = 6.250e+01; v_rms = 6.146e-05\n",
      "step =     26; time = 6.500e+01; v_rms = 6.124e-05\n",
      "Viz step 26\n",
      "step =     27; time = 6.750e+01; v_rms = 6.103e-05\n",
      "step =     28; time = 7.000e+01; v_rms = 6.083e-05\n",
      "Viz step 28\n",
      "step =     29; time = 7.250e+01; v_rms = 6.064e-05\n",
      "step =     30; time = 7.500e+01; v_rms = 6.045e-05\n",
      "Viz step 30\n",
      "step =     31; time = 7.750e+01; v_rms = 6.028e-05\n",
      "step =     32; time = 8.000e+01; v_rms = 6.010e-05\n",
      "Viz step 32\n",
      "step =     33; time = 8.250e+01; v_rms = 5.994e-05\n",
      "step =     34; time = 8.500e+01; v_rms = 5.978e-05\n",
      "Viz step 34\n",
      "step =     35; time = 8.750e+01; v_rms = 5.963e-05\n",
      "step =     36; time = 9.000e+01; v_rms = 5.948e-05\n",
      "Viz step 36\n",
      "step =     37; time = 9.250e+01; v_rms = 5.934e-05\n",
      "step =     38; time = 9.500e+01; v_rms = 5.921e-05\n",
      "Viz step 38\n",
      "step =     39; time = 9.750e+01; v_rms = 5.908e-05\n",
      "step =     40; time = 1.000e+02; v_rms = 5.896e-05\n",
      "Viz step 40\n",
      "step =     41; time = 1.025e+02; v_rms = 5.885e-05\n",
      "step =     42; time = 1.050e+02; v_rms = 5.874e-05\n",
      "Viz step 42\n",
      "step =     43; time = 1.075e+02; v_rms = 5.863e-05\n",
      "step =     44; time = 1.100e+02; v_rms = 5.853e-05\n",
      "Viz step 44\n",
      "step =     45; time = 1.125e+02; v_rms = 5.844e-05\n",
      "step =     46; time = 1.150e+02; v_rms = 5.835e-05\n",
      "Viz step 46\n",
      "step =     47; time = 1.175e+02; v_rms = 5.827e-05\n",
      "step =     48; time = 1.200e+02; v_rms = 5.819e-05\n",
      "Viz step 48\n",
      "step =     49; time = 1.225e+02; v_rms = 5.812e-05\n",
      "step =     50; time = 1.250e+02; v_rms = 5.805e-05\n",
      "Viz step 50\n",
      "step =     51; time = 1.275e+02; v_rms = 5.798e-05\n",
      "step =     52; time = 1.300e+02; v_rms = 5.792e-05\n",
      "Viz step 52\n",
      "step =     53; time = 1.325e+02; v_rms = 5.787e-05\n",
      "step =     54; time = 1.350e+02; v_rms = 5.782e-05\n",
      "Viz step 54\n",
      "step =     55; time = 1.375e+02; v_rms = 5.778e-05\n",
      "step =     56; time = 1.400e+02; v_rms = 5.774e-05\n",
      "Viz step 56\n",
      "step =     57; time = 1.425e+02; v_rms = 5.770e-05\n",
      "step =     58; time = 1.450e+02; v_rms = 5.767e-05\n",
      "Viz step 58\n",
      "step =     59; time = 1.475e+02; v_rms = 5.764e-05\n",
      "step =     60; time = 1.500e+02; v_rms = 5.762e-05\n",
      "Viz step 60\n",
      "step =     61; time = 1.525e+02; v_rms = 5.760e-05\n",
      "step =     62; time = 1.550e+02; v_rms = 5.759e-05\n",
      "Viz step 62\n",
      "step =     63; time = 1.575e+02; v_rms = 5.758e-05\n",
      "step =     64; time = 1.600e+02; v_rms = 5.757e-05\n",
      "Viz step 64\n",
      "step =     65; time = 1.625e+02; v_rms = 5.757e-05\n",
      "step =     66; time = 1.650e+02; v_rms = 5.758e-05\n",
      "Viz step 66\n",
      "step =     67; time = 1.675e+02; v_rms = 5.758e-05\n",
      "step =     68; time = 1.700e+02; v_rms = 5.759e-05\n",
      "Viz step 68\n",
      "step =     69; time = 1.725e+02; v_rms = 5.761e-05\n",
      "step =     70; time = 1.750e+02; v_rms = 5.763e-05\n",
      "Viz step 70\n",
      "step =     71; time = 1.775e+02; v_rms = 5.765e-05\n",
      "step =     72; time = 1.800e+02; v_rms = 5.768e-05\n",
      "Viz step 72\n",
      "step =     73; time = 1.825e+02; v_rms = 5.771e-05\n",
      "step =     74; time = 1.850e+02; v_rms = 5.774e-05\n",
      "Viz step 74\n",
      "step =     75; time = 1.875e+02; v_rms = 5.778e-05\n",
      "step =     76; time = 1.900e+02; v_rms = 5.782e-05\n",
      "Viz step 76\n",
      "step =     77; time = 1.925e+02; v_rms = 5.787e-05\n",
      "step =     78; time = 1.950e+02; v_rms = 5.792e-05\n",
      "Viz step 78\n",
      "step =     79; time = 1.975e+02; v_rms = 5.797e-05\n",
      "step =     80; time = 2.000e+02; v_rms = 5.803e-05\n",
      "Viz step 80\n",
      "step =     81; time = 2.025e+02; v_rms = 5.809e-05\n",
      "step =     82; time = 2.050e+02; v_rms = 5.815e-05\n",
      "Viz step 82\n",
      "step =     83; time = 2.075e+02; v_rms = 5.822e-05\n",
      "step =     84; time = 2.100e+02; v_rms = 5.829e-05\n",
      "Viz step 84\n",
      "step =     85; time = 2.125e+02; v_rms = 5.837e-05\n",
      "step =     86; time = 2.150e+02; v_rms = 5.845e-05\n",
      "Viz step 86\n",
      "step =     87; time = 2.175e+02; v_rms = 5.853e-05\n",
      "step =     88; time = 2.200e+02; v_rms = 5.862e-05\n",
      "Viz step 88\n",
      "step =     89; time = 2.225e+02; v_rms = 5.871e-05\n",
      "step =     90; time = 2.250e+02; v_rms = 5.880e-05\n",
      "Viz step 90\n",
      "step =     91; time = 2.275e+02; v_rms = 5.890e-05\n",
      "step =     92; time = 2.300e+02; v_rms = 5.900e-05\n",
      "Viz step 92\n",
      "step =     93; time = 2.325e+02; v_rms = 5.911e-05\n",
      "step =     94; time = 2.350e+02; v_rms = 5.922e-05\n",
      "Viz step 94\n",
      "step =     95; time = 2.375e+02; v_rms = 5.933e-05\n",
      "step =     96; time = 2.400e+02; v_rms = 5.944e-05\n",
      "Viz step 96\n",
      "step =     97; time = 2.425e+02; v_rms = 5.956e-05\n",
      "step =     98; time = 2.450e+02; v_rms = 5.969e-05\n",
      "Viz step 98\n",
      "step =     99; time = 2.475e+02; v_rms = 5.981e-05\n",
      "step =    100; time = 2.500e+02; v_rms = 5.994e-05\n",
      "Viz step 100\n",
      "step =    101; time = 2.525e+02; v_rms = 6.008e-05\n",
      "step =    102; time = 2.550e+02; v_rms = 6.022e-05\n",
      "Viz step 102\n",
      "step =    103; time = 2.575e+02; v_rms = 6.036e-05\n",
      "step =    104; time = 2.600e+02; v_rms = 6.050e-05\n",
      "Viz step 104\n",
      "step =    105; time = 2.625e+02; v_rms = 6.065e-05\n",
      "step =    106; time = 2.650e+02; v_rms = 6.080e-05\n",
      "Viz step 106\n",
      "step =    107; time = 2.675e+02; v_rms = 6.096e-05\n",
      "step =    108; time = 2.700e+02; v_rms = 6.112e-05\n",
      "Viz step 108\n",
      "step =    109; time = 2.725e+02; v_rms = 6.128e-05\n",
      "step =    110; time = 2.750e+02; v_rms = 6.145e-05\n",
      "Viz step 110\n",
      "step =    111; time = 2.775e+02; v_rms = 6.162e-05\n",
      "step =    112; time = 2.800e+02; v_rms = 6.179e-05\n",
      "Viz step 112\n",
      "step =    113; time = 2.825e+02; v_rms = 6.197e-05\n",
      "step =    114; time = 2.850e+02; v_rms = 6.215e-05\n",
      "Viz step 114\n",
      "step =    115; time = 2.875e+02; v_rms = 6.234e-05\n",
      "step =    116; time = 2.900e+02; v_rms = 6.252e-05\n",
      "Viz step 116\n",
      "step =    117; time = 2.925e+02; v_rms = 6.272e-05\n",
      "step =    118; time = 2.950e+02; v_rms = 6.291e-05\n",
      "Viz step 118\n",
      "step =    119; time = 2.975e+02; v_rms = 6.311e-05\n",
      "step =    120; time = 3.000e+02; v_rms = 6.332e-05\n",
      "Viz step 120\n",
      "step =    121; time = 3.025e+02; v_rms = 6.353e-05\n",
      "step =    122; time = 3.050e+02; v_rms = 6.374e-05\n",
      "Viz step 122\n",
      "step =    123; time = 3.075e+02; v_rms = 6.395e-05\n",
      "step =    124; time = 3.100e+02; v_rms = 6.417e-05\n",
      "Viz step 124\n",
      "step =    125; time = 3.125e+02; v_rms = 6.440e-05\n",
      "step =    126; time = 3.150e+02; v_rms = 6.462e-05\n",
      "Viz step 126\n",
      "step =    127; time = 3.175e+02; v_rms = 6.485e-05\n",
      "step =    128; time = 3.200e+02; v_rms = 6.509e-05\n",
      "Viz step 128\n",
      "step =    129; time = 3.225e+02; v_rms = 6.533e-05\n",
      "step =    130; time = 3.250e+02; v_rms = 6.557e-05\n",
      "Viz step 130\n",
      "step =    131; time = 3.275e+02; v_rms = 6.582e-05\n",
      "step =    132; time = 3.300e+02; v_rms = 6.607e-05\n",
      "Viz step 132\n",
      "step =    133; time = 3.325e+02; v_rms = 6.632e-05\n",
      "step =    134; time = 3.350e+02; v_rms = 6.658e-05\n",
      "Viz step 134\n",
      "step =    135; time = 3.375e+02; v_rms = 6.685e-05\n",
      "step =    136; time = 3.400e+02; v_rms = 6.711e-05\n",
      "Viz step 136\n",
      "step =    137; time = 3.425e+02; v_rms = 6.739e-05\n",
      "step =    138; time = 3.450e+02; v_rms = 6.766e-05\n",
      "Viz step 138\n",
      "step =    139; time = 3.475e+02; v_rms = 6.794e-05\n",
      "step =    140; time = 3.500e+02; v_rms = 6.823e-05\n",
      "Viz step 140\n",
      "step =    141; time = 3.525e+02; v_rms = 6.851e-05\n",
      "step =    142; time = 3.550e+02; v_rms = 6.881e-05\n",
      "Viz step 142\n",
      "step =    143; time = 3.575e+02; v_rms = 6.910e-05\n"
     ]
    },
    {
     "name": "stdout",
     "output_type": "stream",
     "text": [
      "step =    144; time = 3.600e+02; v_rms = 6.941e-05\n",
      "Viz step 144\n",
      "step =    145; time = 3.625e+02; v_rms = 6.971e-05\n",
      "step =    146; time = 3.650e+02; v_rms = 7.002e-05\n",
      "Viz step 146\n",
      "step =    147; time = 3.675e+02; v_rms = 7.034e-05\n",
      "step =    148; time = 3.700e+02; v_rms = 7.066e-05\n",
      "Viz step 148\n",
      "step =    149; time = 3.725e+02; v_rms = 7.098e-05\n",
      "step =    150; time = 3.750e+02; v_rms = 7.131e-05\n",
      "Viz step 150\n",
      "step =    151; time = 3.775e+02; v_rms = 7.164e-05\n",
      "step =    152; time = 3.800e+02; v_rms = 7.198e-05\n",
      "Viz step 152\n",
      "step =    153; time = 3.825e+02; v_rms = 7.232e-05\n",
      "step =    154; time = 3.850e+02; v_rms = 7.267e-05\n",
      "Viz step 154\n",
      "step =    155; time = 3.875e+02; v_rms = 7.302e-05\n",
      "step =    156; time = 3.900e+02; v_rms = 7.338e-05\n",
      "Viz step 156\n",
      "step =    157; time = 3.925e+02; v_rms = 7.374e-05\n",
      "step =    158; time = 3.950e+02; v_rms = 7.411e-05\n",
      "Viz step 158\n",
      "step =    159; time = 3.975e+02; v_rms = 7.448e-05\n",
      "step =    160; time = 4.000e+02; v_rms = 7.485e-05\n",
      "Viz step 160\n",
      "step =    161; time = 4.025e+02; v_rms = 7.523e-05\n",
      "step =    162; time = 4.050e+02; v_rms = 7.562e-05\n",
      "Viz step 162\n",
      "step =    163; time = 4.075e+02; v_rms = 7.601e-05\n",
      "step =    164; time = 4.100e+02; v_rms = 7.641e-05\n",
      "Viz step 164\n",
      "step =    165; time = 4.125e+02; v_rms = 7.681e-05\n",
      "step =    166; time = 4.150e+02; v_rms = 7.722e-05\n",
      "Viz step 166\n",
      "step =    167; time = 4.175e+02; v_rms = 7.763e-05\n",
      "step =    168; time = 4.200e+02; v_rms = 7.804e-05\n",
      "Viz step 168\n",
      "step =    169; time = 4.225e+02; v_rms = 7.847e-05\n",
      "step =    170; time = 4.250e+02; v_rms = 7.890e-05\n",
      "Viz step 170\n",
      "step =    171; time = 4.275e+02; v_rms = 7.933e-05\n",
      "step =    172; time = 4.300e+02; v_rms = 7.977e-05\n",
      "Viz step 172\n",
      "step =    173; time = 4.325e+02; v_rms = 8.021e-05\n",
      "step =    174; time = 4.350e+02; v_rms = 8.066e-05\n",
      "Viz step 174\n",
      "step =    175; time = 4.375e+02; v_rms = 8.112e-05\n",
      "step =    176; time = 4.400e+02; v_rms = 8.158e-05\n",
      "Viz step 176\n",
      "step =    177; time = 4.425e+02; v_rms = 8.205e-05\n",
      "step =    178; time = 4.450e+02; v_rms = 8.252e-05\n",
      "Viz step 178\n",
      "step =    179; time = 4.475e+02; v_rms = 8.300e-05\n",
      "step =    180; time = 4.500e+02; v_rms = 8.348e-05\n",
      "Viz step 180\n",
      "step =    181; time = 4.525e+02; v_rms = 8.397e-05\n",
      "step =    182; time = 4.550e+02; v_rms = 8.447e-05\n",
      "Viz step 182\n",
      "step =    183; time = 4.575e+02; v_rms = 8.497e-05\n",
      "step =    184; time = 4.600e+02; v_rms = 8.548e-05\n",
      "Viz step 184\n",
      "step =    185; time = 4.625e+02; v_rms = 8.600e-05\n",
      "step =    186; time = 4.650e+02; v_rms = 8.652e-05\n",
      "Viz step 186\n",
      "step =    187; time = 4.675e+02; v_rms = 8.705e-05\n",
      "step =    188; time = 4.700e+02; v_rms = 8.758e-05\n",
      "Viz step 188\n",
      "step =    189; time = 4.725e+02; v_rms = 8.812e-05\n",
      "step =    190; time = 4.750e+02; v_rms = 8.867e-05\n",
      "Viz step 190\n",
      "step =    191; time = 4.775e+02; v_rms = 8.922e-05\n",
      "step =    192; time = 4.800e+02; v_rms = 8.978e-05\n",
      "Viz step 192\n",
      "step =    193; time = 4.825e+02; v_rms = 9.035e-05\n",
      "step =    194; time = 4.850e+02; v_rms = 9.092e-05\n",
      "Viz step 194\n",
      "step =    195; time = 4.875e+02; v_rms = 9.151e-05\n",
      "step =    196; time = 4.900e+02; v_rms = 9.209e-05\n",
      "Viz step 196\n",
      "step =    197; time = 4.925e+02; v_rms = 9.269e-05\n",
      "step =    198; time = 4.950e+02; v_rms = 9.329e-05\n",
      "Viz step 198\n",
      "step =    199; time = 4.975e+02; v_rms = 9.390e-05\n"
     ]
    }
   ],
   "source": [
    "# Stepping. Initialise time and timestep.\n",
    "time = 0.\n",
    "step = 0\n",
    "total_time = 500.0\n",
    "last_viz = 0.0\n",
    "delta_viz = 2.5\n",
    "\n",
    "# Perform 10 steps\n",
    "while time<total_time:\n",
    "    # Get velocity solution - using callback\n",
    "    solver.solve( callback_post_solve = pressure_calibrate )\n",
    "    # Calculate the RMS velocity\n",
    "    vrms = math.sqrt( mesh.integrate(vdotv)[0] / mesh.integrate(1.)[0] )\n",
    "    if(uw.mpi.rank==0):\n",
    "        print('step = {0:6d}; time = {1:.3e}; v_rms = {2:.3e}'\n",
    "              .format(step,time,vrms))    \n",
    "    if time - last_viz >= 5.0:\n",
    "        print(\"Viz step {}\".format(step))\n",
    "        image_file = '{:s}/Image.{:04d}.png'.format(expt_name,step)\n",
    "        fig1.save_image(filename=image_file)\n",
    "        last_viz = time\n",
    "    \n",
    "    # update\n",
    "    time, step = update()"
   ]
  },
  {
   "cell_type": "markdown",
   "metadata": {},
   "source": [
    "**Plot the final particle positions and T field**"
   ]
  },
  {
   "cell_type": "code",
   "execution_count": 17,
   "metadata": {
    "scrolled": true
   },
   "outputs": [],
   "source": [
    "## Movie\n",
    "\n",
    "import glob\n",
    "import imageio\n",
    "images = sorted(glob.glob(\"{}/Image*png\".format(expt_name)))\n",
    "\n",
    "\n",
    "writer = imageio.get_writer('{}/Movie.mp4'.format(expt_name, fps=25))\n",
    "\n",
    "# for im in reader:\n",
    "#     writer.append_data(im[:, :, 1])\n",
    "# writer.close()\n",
    "\n",
    "for image_name in images:\n",
    "    read_image = imageio.get_reader(image_name)\n",
    "    image_data = read_image.get_data(0)\n",
    "    writer.append_data(image_data)\n",
    "    \n",
    "writer.close()\n",
    "    "
   ]
  },
  {
   "cell_type": "markdown",
   "metadata": {},
   "source": [
    "**Plot velocity and pressure fields**\n",
    "\n",
    "Plot the velocity field in the fluid induced by the motion of the sinking ball."
   ]
  },
  {
   "cell_type": "code",
   "execution_count": null,
   "metadata": {},
   "outputs": [],
   "source": []
  },
  {
   "cell_type": "code",
   "execution_count": null,
   "metadata": {},
   "outputs": [],
   "source": []
  }
 ],
 "metadata": {
  "kernelspec": {
   "display_name": "Python 3",
   "language": "python",
   "name": "python3"
  },
  "language_info": {
   "codemirror_mode": {
    "name": "ipython",
    "version": 3
   },
   "file_extension": ".py",
   "mimetype": "text/x-python",
   "name": "python",
   "nbconvert_exporter": "python",
   "pygments_lexer": "ipython3",
   "version": "3.7.3"
  }
 },
 "nbformat": 4,
 "nbformat_minor": 1
}
